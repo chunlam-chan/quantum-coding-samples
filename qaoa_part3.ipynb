{
  "cells": [
    {
      "cell_type": "markdown",
      "metadata": {
        "id": "view-in-github",
        "colab_type": "text"
      },
      "source": [
        "<a href=\"https://colab.research.google.com/github/chunlam-chan/quantum-coding-samples/blob/main/qaoa_part3.ipynb\" target=\"_parent\"><img src=\"https://colab.research.google.com/assets/colab-badge.svg\" alt=\"Open In Colab\"/></a>"
      ]
    },
    {
      "cell_type": "markdown",
      "source": [
        "# QAOA for MIMO Detection, Part 3: Non-binary Discrete Optimization\n",
        "\n",
        "In this notebook, we extend our exploration of QAOA to address non-binary discrete optimization. We continue to focus on MIMO detection as our toy example. However, unlike the binary optimization problems considered in Part 1 and Part 2, we now switch to consider signals encoded using Quadrature Amplitude Modulation (QAM), where variables are discrete but not limited to binary values. The primary goal of this investigation is to assess the efficacy of QAOA for non-binary discrete optimization problems.\n",
        "\n",
        "$\\newcommand{\\ket}[1]{\\left|{#1}\\right\\rangle}$\n",
        "$\\newcommand{\\bra}[1]{\\left\\langle{#1}\\right|}$"
      ],
      "metadata": {
        "id": "929OCiOE0xp-"
      }
    },
    {
      "cell_type": "code",
      "execution_count": null,
      "metadata": {
        "id": "kQUW_23j4QnD",
        "colab": {
          "base_uri": "https://localhost:8080/"
        },
        "outputId": "2d064def-b113-4773-9ebf-24410ab0297e"
      },
      "outputs": [
        {
          "output_type": "stream",
          "name": "stdout",
          "text": [
            "Collecting pennylane\n",
            "  Downloading PennyLane-0.31.0-py3-none-any.whl (1.4 MB)\n",
            "\u001b[2K     \u001b[90m━━━━━━━━━━━━━━━━━━━━━━━━━━━━━━━━━━━━━━━━\u001b[0m \u001b[32m1.4/1.4 MB\u001b[0m \u001b[31m9.7 MB/s\u001b[0m eta \u001b[36m0:00:00\u001b[0m\n",
            "\u001b[?25hRequirement already satisfied: numpy<1.24 in /usr/local/lib/python3.10/dist-packages (from pennylane) (1.22.4)\n",
            "Collecting scipy<=1.10 (from pennylane)\n",
            "  Downloading scipy-1.10.0-cp310-cp310-manylinux_2_17_x86_64.manylinux2014_x86_64.whl (34.4 MB)\n",
            "\u001b[2K     \u001b[90m━━━━━━━━━━━━━━━━━━━━━━━━━━━━━━━━━━━━━━━━\u001b[0m \u001b[32m34.4/34.4 MB\u001b[0m \u001b[31m17.5 MB/s\u001b[0m eta \u001b[36m0:00:00\u001b[0m\n",
            "\u001b[?25hRequirement already satisfied: networkx in /usr/local/lib/python3.10/dist-packages (from pennylane) (3.1)\n",
            "Collecting rustworkx (from pennylane)\n",
            "  Downloading rustworkx-0.13.1-cp310-cp310-manylinux_2_17_x86_64.manylinux2014_x86_64.whl (2.0 MB)\n",
            "\u001b[2K     \u001b[90m━━━━━━━━━━━━━━━━━━━━━━━━━━━━━━━━━━━━━━━━\u001b[0m \u001b[32m2.0/2.0 MB\u001b[0m \u001b[31m47.5 MB/s\u001b[0m eta \u001b[36m0:00:00\u001b[0m\n",
            "\u001b[?25hCollecting autograd<=1.5 (from pennylane)\n",
            "  Downloading autograd-1.5-py3-none-any.whl (48 kB)\n",
            "\u001b[2K     \u001b[90m━━━━━━━━━━━━━━━━━━━━━━━━━━━━━━━━━━━━━━━━\u001b[0m \u001b[32m48.9/48.9 kB\u001b[0m \u001b[31m3.8 MB/s\u001b[0m eta \u001b[36m0:00:00\u001b[0m\n",
            "\u001b[?25hRequirement already satisfied: toml in /usr/local/lib/python3.10/dist-packages (from pennylane) (0.10.2)\n",
            "Requirement already satisfied: appdirs in /usr/local/lib/python3.10/dist-packages (from pennylane) (1.4.4)\n",
            "Collecting semantic-version>=2.7 (from pennylane)\n",
            "  Downloading semantic_version-2.10.0-py2.py3-none-any.whl (15 kB)\n",
            "Collecting autoray>=0.3.1 (from pennylane)\n",
            "  Downloading autoray-0.6.6-py3-none-any.whl (54 kB)\n",
            "\u001b[2K     \u001b[90m━━━━━━━━━━━━━━━━━━━━━━━━━━━━━━━━━━━━━━━━\u001b[0m \u001b[32m54.7/54.7 kB\u001b[0m \u001b[31m2.8 MB/s\u001b[0m eta \u001b[36m0:00:00\u001b[0m\n",
            "\u001b[?25hRequirement already satisfied: cachetools in /usr/local/lib/python3.10/dist-packages (from pennylane) (5.3.1)\n",
            "Collecting pennylane-lightning>=0.31 (from pennylane)\n",
            "  Downloading PennyLane_Lightning-0.31.0-cp310-cp310-manylinux_2_17_x86_64.manylinux2014_x86_64.whl (16.6 MB)\n",
            "\u001b[2K     \u001b[90m━━━━━━━━━━━━━━━━━━━━━━━━━━━━━━━━━━━━━━━━\u001b[0m \u001b[32m16.6/16.6 MB\u001b[0m \u001b[31m22.9 MB/s\u001b[0m eta \u001b[36m0:00:00\u001b[0m\n",
            "\u001b[?25hRequirement already satisfied: requests in /usr/local/lib/python3.10/dist-packages (from pennylane) (2.27.1)\n",
            "Requirement already satisfied: future>=0.15.2 in /usr/local/lib/python3.10/dist-packages (from autograd<=1.5->pennylane) (0.18.3)\n",
            "Requirement already satisfied: urllib3<1.27,>=1.21.1 in /usr/local/lib/python3.10/dist-packages (from requests->pennylane) (1.26.16)\n",
            "Requirement already satisfied: certifi>=2017.4.17 in /usr/local/lib/python3.10/dist-packages (from requests->pennylane) (2023.7.22)\n",
            "Requirement already satisfied: charset-normalizer~=2.0.0 in /usr/local/lib/python3.10/dist-packages (from requests->pennylane) (2.0.12)\n",
            "Requirement already satisfied: idna<4,>=2.5 in /usr/local/lib/python3.10/dist-packages (from requests->pennylane) (3.4)\n",
            "Installing collected packages: semantic-version, scipy, rustworkx, autoray, autograd, pennylane-lightning, pennylane\n",
            "  Attempting uninstall: scipy\n",
            "    Found existing installation: scipy 1.10.1\n",
            "    Uninstalling scipy-1.10.1:\n",
            "      Successfully uninstalled scipy-1.10.1\n",
            "  Attempting uninstall: autograd\n",
            "    Found existing installation: autograd 1.6.2\n",
            "    Uninstalling autograd-1.6.2:\n",
            "      Successfully uninstalled autograd-1.6.2\n",
            "Successfully installed autograd-1.5 autoray-0.6.6 pennylane-0.31.0 pennylane-lightning-0.31.0 rustworkx-0.13.1 scipy-1.10.0 semantic-version-2.10.0\n"
          ]
        }
      ],
      "source": [
        "try:\n",
        "    import pennylane as qml\n",
        "except ImportError as e:\n",
        "    # Install pennylane if package is not already installed\n",
        "    !pip install pennylane\n",
        "    import pennylane as qml\n",
        "from pennylane import numpy as np\n",
        "from pennylane import qaoa\n",
        "from matplotlib import pyplot as plt\n",
        "from scipy.optimize import minimize, LinearConstraint\n",
        "from time import perf_counter\n",
        "\n",
        "np.random.seed(2023)\n",
        "plt.style.use('seaborn-v0_8')"
      ]
    },
    {
      "cell_type": "markdown",
      "metadata": {
        "id": "4I0IinbMa_Yv"
      },
      "source": [
        "### Quadrature Amplitude Modulation (QAM) Signals\n",
        "\n",
        "In $M$-QAM where $M=2^{2k}$ and $k \\in \\mathbb{Z}_{+}$, a binary bit sequence (consisting of $2k$ bits) is mapped to a specific symbol from a constellation of $M$ complex points, denoted as $x(b_1, b_2, \\ldots, b_{2k}) \\in \\mathbb{C}$. These constellation points can be indexed by integers, and we refer to these integers as symbols. Each symbol represents a unique combination of bits, allowing the transmission of multiple bits simultaneously.\n",
        "\n",
        "Let's take 16-QAM as our example. The Gray mapping process involves considering $z_i = 1 - 2b_i \\in \\{-1, 1\\}$, and then obtaining the constellation point (which is a complex number) with the equation $x(b_1, b_2, b_3, b_4) = (z_4 z_2 + 2z_2) + i(z_3 z_1 + 2z_1)$. We can visualize all the constellation points on a complex plane below."
      ]
    },
    {
      "cell_type": "code",
      "execution_count": null,
      "metadata": {
        "colab": {
          "base_uri": "https://localhost:8080/"
        },
        "id": "48NwTxbXuzGp",
        "outputId": "b9793d86-137e-4ef3-ea3c-2c1599cd0344"
      },
      "outputs": [
        {
          "output_type": "stream",
          "name": "stdout",
          "text": [
            "bits per symbol = 4\n"
          ]
        }
      ],
      "source": [
        "qam = 16\n",
        "bits_per_symbol = int(np.log2(qam))\n",
        "\n",
        "print(f'bits per symbol = {bits_per_symbol}')"
      ]
    },
    {
      "cell_type": "code",
      "execution_count": null,
      "metadata": {
        "id": "y8RReqpB_Ck_"
      },
      "outputs": [],
      "source": [
        "def get_constellation(s:str):\n",
        "  bits_int = [int(i) for i in s]\n",
        "  z = [1 - 2*b for b in bits_int]\n",
        "  x_real = z[3]*z[1] + 2*z[1]\n",
        "  x_imag = z[2]*z[0] + 2*z[0]\n",
        "  return x_real + x_imag * 1j"
      ]
    },
    {
      "cell_type": "code",
      "execution_count": null,
      "metadata": {
        "colab": {
          "base_uri": "https://localhost:8080/",
          "height": 503
        },
        "id": "f81OV0DC_emp",
        "outputId": "5060b8ec-846f-4bfd-aa92-2acfc1e88517"
      },
      "outputs": [
        {
          "output_type": "display_data",
          "data": {
            "text/plain": [
              "<Figure size 800x550 with 1 Axes>"
            ],
            "image/png": "[encoded data removed]"
          },
          "metadata": {}
        }
      ],
      "source": [
        "bitstring_list = [np.binary_repr(i, width=4) for i in range(16)]\n",
        "constellations = {bitstring: get_constellation(bitstring) for bitstring in bitstring_list}\n",
        "\n",
        "for bitstring, x in constellations.items():\n",
        "  x_re = np.real(x)\n",
        "  x_im = np.imag(x)\n",
        "  plt.plot(x_re, x_im, 'ko', label=bitstring)\n",
        "  plt.annotate(bitstring, (x_re, x_im), xytext=(5, 5), textcoords='offset points')\n",
        "plt.xlabel('Re')\n",
        "plt.ylabel('Im')\n",
        "plt.xlim((-5,5))\n",
        "plt.ylim((-5,5))\n",
        "plt.grid(True)\n",
        "plt.show()"
      ]
    },
    {
      "cell_type": "markdown",
      "source": [
        "As seen above, the 16 constellation points are evenly spaced on the complex plane, forming the set $\\mathcal{X}$.\n",
        "\n",
        "Now, let's recall the inference model we are tackling here: the received signal vector $y \\in \\mathbb{C}^M$ is a linear transform of $x \\in \\mathcal{X}^N$, perturbed by an additive noise $n$, given by the equation $y = Hx + n$; we want to infer $x$ from $y$.\n",
        "For the purpose of focusing on the effect of the non-binary set $\\mathcal{X}$, we simplify other aspects of the model. In our considerations, $H$ is a real matrix like in the previous notebooks, and we assume a noiseless case where $n=0$."
      ],
      "metadata": {
        "id": "n-1W5zFE9jr7"
      }
    },
    {
      "cell_type": "code",
      "execution_count": null,
      "metadata": {
        "id": "FnLQlBRd8dQi"
      },
      "outputs": [],
      "source": [
        "def gen_instance(M, N, noise_var=0):\n",
        "  H = np.random.randn(M, N)\n",
        "  x_symbols = np.random.randint(16, size=M)\n",
        "  x_bits = [bitstring_list[s] for s in x_symbols]\n",
        "  x = np.fromiter(map(get_constellation, x_bits), dtype=np.complex128)\n",
        "  z = np.sqrt(noise_var) * np.random.randn(M)\n",
        "  y = H @ x + z\n",
        "  return x_symbols, x_bits, x, H, y"
      ]
    },
    {
      "cell_type": "markdown",
      "source": [
        "In this noiseless case, if $H$ is additionally a square matrix, we can recover $x$ simply by using $H^{-1}y$. As a result, this problem can be solved classically in polynomial time. We can do a quick sanity check on this classical solution. Despite its efficient classical solution, we still aim to test the efficacy of using QAOA to address this problem."
      ],
      "metadata": {
        "id": "pz_HZD8mBgV9"
      }
    },
    {
      "cell_type": "code",
      "execution_count": null,
      "metadata": {
        "id": "TaW1E3lIxa51"
      },
      "outputs": [],
      "source": [
        "M, N = 2, 2\n",
        "x_symbols, x_bits, x, H, y = gen_instance(M, N)"
      ]
    },
    {
      "cell_type": "code",
      "source": [
        "print('A sanity check:')\n",
        "print(f'x = {x}')\n",
        "print(f'inv(H) @ y = {np.linalg.inv(H) @ y}')"
      ],
      "metadata": {
        "id": "FC7nE3_6EPG1",
        "colab": {
          "base_uri": "https://localhost:8080/"
        },
        "outputId": "66356e23-e706-46f5-c097-2b364d72267a"
      },
      "execution_count": null,
      "outputs": [
        {
          "output_type": "stream",
          "name": "stdout",
          "text": [
            "A sanity check:\n",
            "x = [-3.+3.j -3.+1.j]\n",
            "inv(H) @ y = [-3.+3.j -3.+1.j]\n"
          ]
        }
      ]
    },
    {
      "cell_type": "markdown",
      "metadata": {
        "id": "ThMUwvOL5yJO"
      },
      "source": [
        "### Encoding the Problem for QAOA\n",
        "\n",
        "To encode the problem for QAOA, we need to transform the model from complex numbers to real numbers. This can be done by noting that $\\Vert y - Hx \\Vert^2 = \\Vert \\tilde{y} - \\tilde{H}\\tilde{x} \\Vert^2$ where $$\\tilde{H} = \\begin{bmatrix} \\text{Re}(H) & -\\text{Im}(H) \\\\ \\text{Im}(H) & \\text{Re}(H) \\end{bmatrix}, \\quad \\tilde{x} = \\begin{bmatrix} \\text{Re}(x) \\\\ \\text{Im}(x) \\end{bmatrix}, \\quad \\tilde{y} = \\begin{bmatrix} \\text{Re}(y) \\\\ \\text{Im}(y) \\end{bmatrix}.$$\n",
        "Therefore, we can simply express $x_{ML} \\triangleq \\min_{x \\in \\mathcal{X}^N} \\Vert y - Hx \\Vert^2$ in a form similar to what appeared in Part 1, which is $x_{ML} = \\min_{x \\in \\mathcal{X}^N} f(x)$ where\n",
        "$$f(x) = \\sum_{i<j}^{2N} A_{i,j} \\tilde{x}_i \\tilde{x}_j + \\frac{1}{2} \\sum_{i=1}^{2N} A_{i,i} \\tilde{x}_i \\tilde{x}_i + \\sum_{i=1}^{2N} \\tilde{b}_i \\tilde{x}_i.$$\n",
        "Here, $\\tilde{A} = 2\\tilde{H}^T \\tilde{H}$ and $\\tilde{b} = -2\\tilde{H}^T \\tilde{y}$. To further proceed, we recall that $x_i = (z_{i,4} z_{i,2} + 2z_{i,2}) + i(z_{i,3} z_{i,1} + 2z_{i,1})$. The Hamiltonian encoding the problem can then be derived by writing $f(x)$ explicitly in terms of $z = [z_{1,1}, z_{1,2}, \\cdots, z_{N,4}]$ through substituting $z$ into $\\tilde{x}$, followed by further replacing $z_{i,j}$ with $\\sigma_z^{(i,j)}$.\n",
        "\n",
        "<details>\n",
        "<summary>Click here for some calculation details</summary>\n",
        "For example, we have\n",
        "$$\\sum_{i<j}^{2N} A_{i,j} \\tilde{x}_i \\tilde{x}_j = \\sum_{j=2}^{N} \\sum_{i=1}^{j-1} A_{i,j} \\tilde{x}_i \\tilde{x}_j + \\sum_{j=1}^{N} \\sum_{i=1}^{N} A_{i,N+j} \\tilde{x}_{i} \\tilde{x}_{N+j} + \\sum_{j=2}^{N} \\sum_{i=1}^{j-1} A_{N+i,N+j} \\tilde{x}_{N+i} \\tilde{x}_{N+j}$$\n",
        "$$ = \\sum_{j=2}^{N} \\sum_{i=1}^{j-1} A_{i,j} (z_{i,4} z_{i,2} + 2z_{i,2}) (z_{j,4} z_{j,2} + 2z_{j,2}) $$\n",
        "$$ + \\sum_{j=1}^{N} \\sum_{i=1}^{N} A_{N+i,j} (z_{i,4} z_{i,2} + 2z_{i,2}) (z_{j,3} z_{j,1} + 2z_{j,1}) $$\n",
        "$$ + \\sum_{j=2}^{N} \\sum_{i=1}^{j-1} A_{N+i,N+j} (z_{i,3} z_{i,1} + 2z_{i,1}) (z_{j,3} z_{j,1} + 2z_{j,1}) $$\n",
        "</details>\n",
        "\n",
        "This transformation enables us to utilize QAOA to solve the non-binary discrete optimization problem. Whether this transformaion enables the QAOA to solve the problem efficiently will be a task we want to check in the rest of this notebook. We now proceed to implement the Hamiltonian and QAOA circuit, along with some utility functions, in the following code snippets."
      ]
    },
    {
      "cell_type": "code",
      "execution_count": null,
      "metadata": {
        "id": "aRszQR-59QgP"
      },
      "outputs": [],
      "source": [
        "# Compute the cost Hamiltonian and mixer Hamitonian\n",
        "def mimo_detection_16QAM(H, y):\n",
        "  H_t = np.block([[np.real(H), -np.imag(H)], [np.imag(H), np.real(H)]])\n",
        "  y_t = np.block([np.real(y), np.imag(y)])\n",
        "  A = 2 * H_t.T @ H_t\n",
        "  b = -2 * y_t.T @ H_t\n",
        "\n",
        "  obs = []\n",
        "  coeffs = []\n",
        "\n",
        "  for j in range(N):\n",
        "    for i in range(j):\n",
        "      obs.append(qml.PauliZ(4*i+3) @ qml.PauliZ(4*i+1) @ qml.PauliZ(4*j+3) @ qml.PauliZ(4*j+1))\n",
        "      coeffs.append(A[i,j].numpy())\n",
        "      obs.append(qml.PauliZ(4*i+3) @ qml.PauliZ(4*i+1) @ qml.PauliZ(4*j+1))\n",
        "      coeffs.append(2 * A[i,j].numpy())\n",
        "      obs.append(qml.PauliZ(4*i+1) @ qml.PauliZ(4*j+3) @ qml.PauliZ(4*j+1))\n",
        "      coeffs.append(2 * A[i,j].numpy())\n",
        "      obs.append(qml.PauliZ(4*i+1) @ qml.PauliZ(4*j+1))\n",
        "      coeffs.append(4 * A[i,j].numpy())\n",
        "\n",
        "  for i in range(N):\n",
        "    obs.append(qml.PauliZ(4*i+3))\n",
        "    coeffs.append(2 * A[i,i].numpy())\n",
        "\n",
        "  for j in range(N):\n",
        "    for i in range(N):\n",
        "      obs.append(qml.PauliZ(4*i+3) @ qml.PauliZ(4*i+1) @ qml.PauliZ(4*j+2) @ qml.PauliZ(4*j))\n",
        "      coeffs.append(A[i,N+j].numpy())\n",
        "      obs.append(qml.PauliZ(4*i+3) @ qml.PauliZ(4*i+1) @ qml.PauliZ(4*j))\n",
        "      coeffs.append(2 * A[i,N+j].numpy())\n",
        "      obs.append(qml.PauliZ(4*i+1) @ qml.PauliZ(4*j+2) @ qml.PauliZ(4*j))\n",
        "      coeffs.append(2 * A[i,N+j].numpy())\n",
        "      obs.append(qml.PauliZ(4*i+1) @ qml.PauliZ(4*j))\n",
        "      coeffs.append(4 * A[i,N+j].numpy())\n",
        "\n",
        "  for j in range(N):\n",
        "    for i in range(j):\n",
        "      obs.append(qml.PauliZ(4*i+2) @ qml.PauliZ(4*i) @ qml.PauliZ(4*j+2) @ qml.PauliZ(4*j))\n",
        "      coeffs.append(A[N+i,N+j].numpy())\n",
        "      obs.append(qml.PauliZ(4*i+2) @ qml.PauliZ(4*i) @ qml.PauliZ(4*j))\n",
        "      coeffs.append(2 * A[N+i,N+j].numpy())\n",
        "      obs.append(qml.PauliZ(4*i) @ qml.PauliZ(4*j+2) @ qml.PauliZ(4*j))\n",
        "      coeffs.append(2 * A[N+i,N+j].numpy())\n",
        "      obs.append(qml.PauliZ(4*i) @ qml.PauliZ(4*j))\n",
        "      coeffs.append(4 * A[N+i,N+j].numpy())\n",
        "\n",
        "  for i in range(N):\n",
        "    obs.append(qml.PauliZ(4*i+2))\n",
        "    coeffs.append(2 * A[N+i,N+i].numpy())\n",
        "\n",
        "  for i in range(N):\n",
        "    obs.append(qml.PauliZ(4*i+3) @ qml.PauliZ(4*i+1))\n",
        "    coeffs.append(b[i].numpy())\n",
        "    obs.append(qml.PauliZ(4*i+1))\n",
        "    coeffs.append(2 * b[i].numpy())\n",
        "\n",
        "  for i in range(N):\n",
        "    obs.append(qml.PauliZ(4*i+2) @ qml.PauliZ(4*i))\n",
        "    coeffs.append(b[N+i].numpy())\n",
        "    obs.append(qml.PauliZ(4*i))\n",
        "    coeffs.append(2 * b[N+i].numpy())\n",
        "\n",
        "  cost_h = qml.Hamiltonian(coeffs, obs)\n",
        "  mixer_h = qaoa.x_mixer(wires=range(bits_per_symbol*N))\n",
        "\n",
        "  return cost_h, mixer_h"
      ]
    },
    {
      "cell_type": "code",
      "execution_count": null,
      "metadata": {
        "id": "PHUNtZ8s418X"
      },
      "outputs": [],
      "source": [
        "class QAOA:\n",
        "  def __init__(self, cost_h, mixer_h, N, depth):\n",
        "    self.cost_h = cost_h\n",
        "    self.mixer_h = mixer_h\n",
        "    self.depth = depth\n",
        "    self.wires = range(N)\n",
        "    self.dev = qml.device('default.qubit', wires=self.wires)\n",
        "\n",
        "  def _qaoa_layer(self, gamma, alpha):\n",
        "    qaoa.cost_layer(gamma, self.cost_h)\n",
        "    qaoa.mixer_layer(alpha, self.mixer_h)\n",
        "\n",
        "  def _circuit(self, params):\n",
        "    for w in self.wires:\n",
        "      qml.Hadamard(wires=w)\n",
        "    qml.layer(self._qaoa_layer, self.depth, params[0], params[1])\n",
        "\n",
        "  def cost_function(self, params):\n",
        "    @qml.qnode(self.dev)\n",
        "    def qnode():\n",
        "      self._circuit(params)\n",
        "      return qml.expval(self.cost_h)\n",
        "\n",
        "    return qnode()\n",
        "\n",
        "  def probability_circuit(self, gamma, alpha):\n",
        "    @qml.qnode(self.dev)\n",
        "    def qnode():\n",
        "      self._circuit([gamma, alpha])\n",
        "      return qml.probs(wires=self.wires)\n",
        "\n",
        "    return qnode()\n",
        "\n",
        "  def draw_circuit(self, gamma, alpha):\n",
        "    @qml.qnode(self.dev)\n",
        "    def qnode(gamma, alpha):\n",
        "      self._circuit([gamma, alpha])\n",
        "      return qml.probs(wires=self.wires)\n",
        "\n",
        "    return qml.draw_mpl(qnode, decimals=1, expansion_strategy='device')\n",
        "\n",
        "  def cost_function_for_scipy(self, params_flat):\n",
        "    params = params_flat.reshape((2,-1))\n",
        "    return self.cost_function(params)"
      ]
    },
    {
      "cell_type": "markdown",
      "source": [
        "### Experimental Results of a Simple Instance\n",
        "Next, we create a QAOA circuit with depth 3, and optimize the circuit using COBYLA. We can compare the improvement of the cost function per iteration with its lower bound, which can be obtained through evaluation at the state given by the bit representation of the true $x$."
      ],
      "metadata": {
        "id": "0ogrK_rrLmz-"
      }
    },
    {
      "cell_type": "code",
      "execution_count": null,
      "metadata": {
        "id": "rAmKsJQaHJcc"
      },
      "outputs": [],
      "source": [
        "depth = 3\n",
        "\n",
        "cost_h, mixer_h = mimo_detection_16QAM(H, y)\n",
        "qaoa_mimo = QAOA(cost_h, mixer_h, 4*N, depth)"
      ]
    },
    {
      "cell_type": "code",
      "execution_count": null,
      "metadata": {
        "id": "bax2UgLn4xFG"
      },
      "outputs": [],
      "source": [
        "costs = []\n",
        "\n",
        "def callback(xk):\n",
        "    costs.append(qaoa_mimo.cost_function_for_scipy(xk))\n",
        "\n",
        "params_flat = np.random.randn(2*depth, requires_grad=True)\n",
        "linear_constraint = LinearConstraint(A=np.eye(2*depth), lb=np.zeros(2*depth), ub=2*np.pi*np.ones(2*depth))\n",
        "out = minimize(qaoa_mimo.cost_function_for_scipy, x0=params_flat, method='COBYLA', constraints=linear_constraint, callback=callback, options={'maxiter':500})"
      ]
    },
    {
      "cell_type": "code",
      "source": [
        "wires = range(bits_per_symbol * N)\n",
        "dev = qml.device('default.qubit', wires=wires)\n",
        "\n",
        "# Compute the expectation of an observable with respect to a given state\n",
        "@qml.qnode(dev)\n",
        "def expectation_value(x_bits, observable):\n",
        "  x_bits_list = []\n",
        "  for binary_str in x_bits:\n",
        "    x_bits_list.extend(int(bit) for bit in binary_str)\n",
        "  qml.BasisState(x_bits_list, wires=wires)\n",
        "  return qml.expval(observable)"
      ],
      "metadata": {
        "id": "H-lCqqlmCmUr"
      },
      "execution_count": null,
      "outputs": []
    },
    {
      "cell_type": "code",
      "execution_count": null,
      "metadata": {
        "colab": {
          "base_uri": "https://localhost:8080/",
          "height": 388
        },
        "id": "iWTk5ml4HSJz",
        "outputId": "7470a4cc-e3cb-4665-d0fb-e5ea4e225fc8"
      },
      "outputs": [
        {
          "output_type": "display_data",
          "data": {
            "text/plain": [
              "<Figure size 1000x400 with 1 Axes>"
            ],
            "image/png": "[encoded data removed]"
          },
          "metadata": {}
        }
      ],
      "source": [
        "plt.figure(figsize=(10,4))\n",
        "plt.plot(range(len(costs)), costs, label='QAOA')\n",
        "plt.axhline(y=expectation_value(x_bits, cost_h), color='r', linestyle='-', label='lower bound')\n",
        "plt.xlabel('iteration')\n",
        "plt.ylabel('cost')\n",
        "plt.legend()\n",
        "plt.show()"
      ]
    },
    {
      "cell_type": "markdown",
      "source": [
        "The cost function starts monotonically decreasing after around 50 iterations. Considering the relatively low circuit depth, it is not surprising that the cost function evaluated by QAOA after many iterations still exhibits a gap compared to the lower bound. Despite not closing the gap, we can still stop the optimization of the circuit after a fixed number of iterations and measure the QAOA circuit in computational basis to obtain the estimated values of $x$ using QAOA. This is carried out below."
      ],
      "metadata": {
        "id": "brkn3ybUnDSl"
      }
    },
    {
      "cell_type": "code",
      "execution_count": null,
      "metadata": {
        "colab": {
          "base_uri": "https://localhost:8080/",
          "height": 391
        },
        "id": "GuWGO3Ga6pBc",
        "outputId": "8743404d-1b81-420e-b60b-dd2f66fbac12"
      },
      "outputs": [
        {
          "output_type": "display_data",
          "data": {
            "text/plain": [
              "<Figure size 2000x600 with 1 Axes>"
            ],
            "image/png": "[encoded data removed]"
          },
          "metadata": {}
        }
      ],
      "source": [
        "params_cobyla = out['x'].reshape(2,-1)\n",
        "probs_cobyla = qaoa_mimo.probability_circuit(params_cobyla[0], params_cobyla[1])\n",
        "\n",
        "plt.figure(figsize=(20,6))\n",
        "xlabel = [i for i in range(2 ** len(wires))]\n",
        "plt.bar(xlabel, probs_cobyla)\n",
        "plt.xlabel('measurement outcome in decimal index')\n",
        "plt.ylabel('probability')\n",
        "plt.tight_layout()\n",
        "plt.show()"
      ]
    },
    {
      "cell_type": "markdown",
      "source": [
        "The above shows the empirical distribution of the measurement outcomes. However, the highest peak does not prominently stand out from the others and does not correspond to the true solution perfectly. To futher evaluate the performance, we can also measure the fraction of incorrect symbols and the fraction of incorrect bits, which are commonly referred to as symbol error rate (SER) and bit error rate (BER)."
      ],
      "metadata": {
        "id": "WPUCTI3bmXEE"
      }
    },
    {
      "cell_type": "code",
      "execution_count": null,
      "metadata": {
        "colab": {
          "base_uri": "https://localhost:8080/"
        },
        "id": "FdQmYebL7YJZ",
        "outputId": "2d1cbcdd-8fc0-40c7-bbbe-fecd3d36801a"
      },
      "outputs": [
        {
          "output_type": "stream",
          "name": "stdout",
          "text": [
            "============== true ==============\n",
            "true bits: ['0100', '0110']\n",
            "true symbols: [4 6]\n",
            "true x: [-3.+3.j -3.+1.j]\n",
            "============== est ===============\n",
            "estimated bits: ['0100', '0010']\n",
            "estimated symbols: [4, 2]\n",
            "estimated x: [-3.+3.j  3.+1.j]\n",
            "============ summary =============\n",
            "success = False\n",
            "symbol error rate = 0.5\n",
            "bit error rate = 0.125\n"
          ]
        }
      ],
      "source": [
        "est_x_idx = np.argmax(probs_cobyla)\n",
        "est_x_bits_concatenated = np.binary_repr(est_x_idx, N*bits_per_symbol)\n",
        "est_x_bits = [est_x_bits_concatenated[bits_per_symbol*i:bits_per_symbol*(i+1)] for i in range(N)]\n",
        "est_x_symbols = [int(est_x_bits[i], 2) for i in range(N)]\n",
        "est_x = np.array([get_constellation(bits) for bits in est_x_bits])\n",
        "\n",
        "success = est_x_bits == x_bits\n",
        "ser = np.sum(est_x_symbols != x_symbols) / N\n",
        "x_bits_concatenated = ''.join(x_bits)\n",
        "ber = np.sum([b1 != b2 for b1, b2 in zip(x_bits_concatenated, est_x_bits_concatenated)]) / (N * bits_per_symbol)\n",
        "\n",
        "print('============== true ==============')\n",
        "print(f'true bits: {x_bits}')\n",
        "print(f'true symbols: {x_symbols}')\n",
        "print(f'true x: {x}')\n",
        "\n",
        "print('============== est ===============')\n",
        "print(f'estimated bits: {est_x_bits}')\n",
        "print(f'estimated symbols: {est_x_symbols}')\n",
        "print(f'estimated x: {est_x}')\n",
        "\n",
        "print('============ summary =============')\n",
        "print(f'success = {success}')\n",
        "print(f'symbol error rate = {ser}')\n",
        "print(f'bit error rate = {ber}')"
      ]
    },
    {
      "cell_type": "markdown",
      "source": [
        "The above summary shows that both SER and BER are not satisfactory. Let's see if increasing the depth would improve the performance."
      ],
      "metadata": {
        "id": "rbtaKCzYbPym"
      }
    },
    {
      "cell_type": "markdown",
      "source": [
        "### Impact of Circuit Depth on Performance\n",
        "\n",
        "To proceed, we wrap the previous code in functions and run them for different circuit depths. For subsequent experiments when we need to optimize a QAOA circuit, we will limit the number of iterations to 100 for improved time efficiency."
      ],
      "metadata": {
        "id": "YgVO-0E7jtE9"
      }
    },
    {
      "cell_type": "code",
      "execution_count": null,
      "metadata": {
        "id": "jvP3y3a-ncHV"
      },
      "outputs": [],
      "source": [
        "def qaoa_experiment(M, N):\n",
        "  x_symbols, x_bits, x, H, y = gen_instance(M, N)\n",
        "  cost_h, mixer_h = mimo_detection_16QAM(H, y)\n",
        "  qaoa_mimo = QAOA(cost_h, mixer_h, 4*N, depth)\n",
        "\n",
        "  params_flat = np.random.randn(2*depth, requires_grad=True)\n",
        "  linear_constraint = LinearConstraint(A=np.eye(2*depth), lb=np.zeros(2*depth), ub=2*np.pi*np.ones(2*depth))\n",
        "  out = minimize(qaoa_mimo.cost_function_for_scipy, x0=params_flat, method='COBYLA', options={'maxiter':100})\n",
        "  params_cobyla = out['x'].reshape(2,-1)\n",
        "  probs_cobyla = qaoa_mimo.probability_circuit(params_cobyla[0], params_cobyla[1])\n",
        "\n",
        "  est_x_idx = np.argmax(probs_cobyla)\n",
        "  est_x_bits_concatenated = np.binary_repr(est_x_idx, N*bits_per_symbol)\n",
        "  est_x_bits = [est_x_bits_concatenated[bits_per_symbol*i:bits_per_symbol*(i+1)] for i in range(N)]\n",
        "  est_x_symbols = [int(est_x_bits[i], 2) for i in range(N)]\n",
        "  est_x = np.array([get_constellation(bits) for bits in est_x_bits])\n",
        "\n",
        "  success = est_x_bits == x_bits\n",
        "  ser = np.sum(est_x_symbols != x_symbols) / N\n",
        "  x_bits_concatenated = ''.join(x_bits)\n",
        "  ber = np.sum([b1 != b2 for b1, b2 in zip(x_bits_concatenated, est_x_bits_concatenated)]) / (N * bits_per_symbol)\n",
        "\n",
        "  return success, ser, ber"
      ]
    },
    {
      "cell_type": "code",
      "execution_count": null,
      "metadata": {
        "colab": {
          "base_uri": "https://localhost:8080/"
        },
        "id": "-YRSA8NB4gWt",
        "outputId": "1c4447e7-2581-4ffd-d64b-b639c9175e45"
      },
      "outputs": [
        {
          "output_type": "stream",
          "name": "stdout",
          "text": [
            "At depth 1\n",
            "t = 0\n",
            "t = 40\n",
            "t = 80\n",
            "At depth 3\n",
            "t = 0\n",
            "t = 40\n",
            "t = 80\n",
            "At depth 7\n",
            "t = 0\n",
            "t = 40\n",
            "t = 80\n",
            "Execution time on Colab: 81.02 minutes\n"
          ]
        }
      ],
      "source": [
        "M = 2\n",
        "N = 2\n",
        "\n",
        "depth_list = [1, 3, 7]\n",
        "trials = 100\n",
        "results = []\n",
        "\n",
        "t0 = perf_counter()\n",
        "\n",
        "for depth in depth_list:\n",
        "  print(f'At depth {depth}')\n",
        "\n",
        "  results_per_depth = []\n",
        "\n",
        "  for t in range(trials):\n",
        "    if t % 40 == 0:\n",
        "      print(f't = {t}')\n",
        "\n",
        "    success, ser, ber = qaoa_experiment(M, N)\n",
        "    results_per_depth.append([int(success), ser, ber])\n",
        "\n",
        "  results.append(results_per_depth)\n",
        "\n",
        "t1 = perf_counter()\n",
        "\n",
        "print(f'Execution time on Colab: {(t1 - t0) / 60:.2f} minutes')"
      ]
    },
    {
      "cell_type": "code",
      "execution_count": null,
      "metadata": {
        "colab": {
          "base_uri": "https://localhost:8080/",
          "height": 502
        },
        "id": "JCkGUZOyp2Lp",
        "outputId": "02e200df-f909-4c37-92e9-51086d905749"
      },
      "outputs": [
        {
          "output_type": "execute_result",
          "data": {
            "text/plain": [
              "Text(0, 0.5, 'BER')"
            ]
          },
          "metadata": {},
          "execution_count": 18
        },
        {
          "output_type": "display_data",
          "data": {
            "text/plain": [
              "<Figure size 800x550 with 3 Axes>"
            ],
            "image/png": "[encoded data removed]"
          },
          "metadata": {}
        }
      ],
      "source": [
        "results_np = np.array(results)\n",
        "\n",
        "fig, axs = plt.subplots(3)\n",
        "axs[0].plot(depth_list, np.sum(results_np[:,:,0], axis=-1), '-o')\n",
        "axs[0].set_ylabel('success rate')\n",
        "axs[1].plot(depth_list, np.mean(results_np[:,:,1], axis=-1), '-o')\n",
        "axs[1].set_ylabel('SER')\n",
        "axs[2].plot(depth_list, np.mean(results_np[:,:,2], axis=-1), '-o')\n",
        "axs[2].set_ylabel('BER')"
      ]
    },
    {
      "cell_type": "markdown",
      "source": [
        "In the above experiments, we varied the depth of the circuit up to 7. As expected, higher depths lead to a reduction in both SER and BER. The improvement, however, occurs at a rather slow rate, thus an accurate estimate might happen but only at a high circuit depth. On one hand, this observation reasonably aligns with the \"reachability deficit\" mentioned in Part 1. On the other hand, considering that the simplified problem here already has an efficient classical solution, it leaves us wondering whether QAOA is a good knife for this particular application or if there might be a more effective way to encode the problem for QAOA.\n",
        "\n",
        "For the latter suspicion, an arXiv paper [[1]](#[1]) has explored alternative Hamiltonain representations. Although the suggested method can reduce the number of terms in the Hamiltonian by half and thus simplify the QAOA circuit, it requires prior evaluation of the cost function for at least half of the possible configurations of $x$. Essentially, the problem is almost solved before even applying the Hamiltonian encoding and running QAOA."
      ],
      "metadata": {
        "id": "C5PlO8o_eB9w"
      }
    },
    {
      "cell_type": "markdown",
      "source": [
        "### Conclusion\n",
        "\n",
        "Throughout this notebook series, we have explored QAOA and its potential for discrete optimization problems. QAOA has been extensively studied for combinatorial optimization problems such as Max-Cut and $k$-SAT, showing promise in handling binary variables on sparse graphs. In this notebook series, we took a different path, focusing on MIMO detection as a toy problem to eventually explore non-binary discrete optimization on a complete graph.\n",
        "\n",
        "- In Part 1, we demonstrated QAOA's efficacy for binary optimization, controllable with the circuit depth and choice of classical optimizer.\n",
        "\n",
        "- In Part 2, we compared QAOA with RQAOA but found that RQAOA did not outperform QAOA for our problem. It might be better suited for certain graph types like sparse graphs.\n",
        "\n",
        "- In Part 3, we extended our toy problem to non-binary discrete optimization. Despite successful encoding the problem for QAOA, obtaining accurate solutions with reasonable circuit depths posed challenges.\n",
        "\n",
        "Overall, this notebook series motivates an idea: if QAOA or some other variants achieve quantum advantage for non-binary problems on dense graphs, it will significantly expand applicability of quantum optimization in the NISQ era. Notably, fields like wireless communication could benefit from such advancements.\n",
        "\n",
        "Last but not least, thanks for reading through this programming journey. I hope you enjoy it."
      ],
      "metadata": {
        "id": "8NuxgIA7sT9p"
      }
    },
    {
      "cell_type": "markdown",
      "metadata": {
        "id": "Bxz2y5Nkh5lz"
      },
      "source": [
        "### References\n",
        "<a id=\"references\"></a>\n",
        "<a id=\"[1]\"></a>\n",
        "1. J. Cui, Y. Xiong, S.X. Ng, L. Hanzo, [*General Hamiltonian Representation of ML Detection Relying on the Quantum Approximate Optimization Algorithm*](https://arxiv.org/abs/2204.05126), arXiv:2204.05126, 2022"
      ]
    }
  ],
  "metadata": {
    "colab": {
      "provenance": [],
      "authorship_tag": "ABX9TyOBeJEqpZHMgdGmWI+ajrs2",
      "include_colab_link": true
    },
    "kernelspec": {
      "display_name": "Python 3",
      "name": "python3"
    },
    "language_info": {
      "name": "python"
    }
  },
  "nbformat": 4,
  "nbformat_minor": 0
}