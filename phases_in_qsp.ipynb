{
  "nbformat": 4,
  "nbformat_minor": 0,
  "metadata": {
    "colab": {
      "provenance": [],
      "authorship_tag": "ABX9TyNdFpqsEjyDfCfT0XLq/M0R",
      "include_colab_link": true
    },
    "kernelspec": {
      "name": "python3",
      "display_name": "Python 3"
    },
    "language_info": {
      "name": "python"
    }
  },
  "cells": [
    {
      "cell_type": "markdown",
      "metadata": {
        "id": "view-in-github",
        "colab_type": "text"
      },
      "source": [
        "<a href=\"https://colab.research.google.com/github/chunlam-chan/quantum-coding-samples/blob/main/phases_in_qsp.ipynb\" target=\"_parent\"><img src=\"https://colab.research.google.com/assets/colab-badge.svg\" alt=\"Open In Colab\"/></a>"
      ]
    },
    {
      "cell_type": "markdown",
      "source": [
        "# Methods for Determining the Phases in QSP\n",
        "\n",
        "In the previous [notebook](https://github.com/chunlam-chan/quantum-coding-samples/blob/main/qaoa_part1.ipynb), we explored an optimization problem and have seen that the problem can be formulated as finding the ground state of a target Hamiltonian. QAOA can be viewed as a specific algorithm for Hamiltonian simulation, derived from trotterization, with a primary fouus on optimization problems. A broader paradigm in quantum computing that encompasses various techniques for efficient Hamiltonian simulation is known as quantum signal processing (QSP) and its generalization called quantum singular value transform (QSVT).\n",
        "\n",
        "It is interesting that the fundamental challenge in both QAOA and QSP revolves around finding the optimal phases for some kinds of parameterized circuits. Following this [PennyLane demo](https://pennylane.ai/qml/demos/tutorial_intro_qsvt), once we have found the optimal phases that fit a polynomial function, we can employ the QSVT operation integrated in PennyLane to transform a block encoded matrix. However, the demo did not elucidate how these phases can be derived. Therefore, this notebook engages in a hands-on exercise aimed at uncovering these phases; additionally, it includes a brief reference note summarizing the methods available for this purpose thus far.\n",
        "\n",
        "$\\newcommand{\\ket}[1]{\\left|{#1}\\right\\rangle}$\n",
        "$\\newcommand{\\bra}[1]{\\left\\langle{#1}\\right|}$"
      ],
      "metadata": {
        "id": "uLhK8lj3ByMS"
      }
    },
    {
      "cell_type": "markdown",
      "source": [
        "## QSP and the GSLW's method for determining the phases\n",
        "\n",
        "Following the notation in [[1, Chapter 7]](#[1]), let us describe QSP as follows. We start with a scalar $x \\in [-1, 1]$, which has a one-qubit Hermitian block encoding represented by the matrix $$U_A(x) = \\begin{bmatrix} x & \\sqrt{1-x^2} \\\\ \\sqrt{1-x^2} & -x \\end{bmatrix}.$$ This matrix when combined with a Puali Z operator yields a rotation matrix $$O(x) = U_A(x) Z = \\begin{bmatrix} x & -\\sqrt{1-x^2} \\\\ \\sqrt{1-x^2} & x \\end{bmatrix}.$$ Now, let us explore what kind of quantum state can be expressed when we interleave two types of rotations, $O(x)$ and the Rz rotation. The answer is known as QSP, which says that there exists a set of phase factors $\\Phi:= (\\phi_0, \\cdots, \\phi_d) \\in [-\\pi, \\pi]^{d+1}$ such that\n",
        "$$U_{\\Phi}(x) = e^{i\\phi_0 Z} \\prod_{j=1}^{d} \\left [ O(x) e^{i \\phi_j Z}\\right ] = \\begin{bmatrix} P(x) & -Q(x) \\sqrt{1-x^2} \\\\ Q^*(x) \\sqrt{1-x^2} & P^*(x) \\end{bmatrix}$$\n",
        "if and only if $P, Q \\in \\mathbb{C}[x]$ satsify the following conditions:\n",
        "\n",
        "1. deg$(P) \\leq d$, deg$(Q) \\leq d-1$ (deg$(Q)=-1$ means $Q=0$),\n",
        "2. $P$ has parity $d$ mod 2 and $Q$ has parity $d-1$ mod 2, and\n",
        "3. $|P(x)|^2 + (1-x^2) |Q(x)|^2 = 1, \\forall x \\in [-1, 1]$.\n",
        "\n",
        "For problems involving eigenvalue transformation, it is often possible to decompose the transformation into a set of polynomials suitable for QSP. To identify the polynomial $P(x)$ for typical problems such as matrix inverse, Hamiltonian simulation and Gibbs states, a helpful tutorial page is available in this [GitBook](https://qsppack.gitbook.io/qsppack/).\n",
        "\n",
        "Now, assuming we have a target polynomial $P(x)$ and the operator $U_A(x)$ is available, if we want to construct a quantum circuit for encoding $P(x)$, one approach is to determine a suitable $Q(x)$ and then recursively calculate the phases $\\Phi$ based on the method in the proof of QSP [[2, Theorem 3]](#[2]).\n",
        "\n",
        "This leads to the second question: how do we decide on $Q(x)$? According to [[2, Theorem 4]](#[2]), if $P$ satisfies\n",
        "4. $\\forall x \\in [-1, 1]: \\vert P(x) \\vert \\leq 1$,\n",
        "5. $\\forall x \\in (-\\infty, -1] \\cup [1, \\infty): \\vert P(x) \\vert \\geq 1$,\n",
        "6. if $d$ is even, then $\\forall x \\in \\mathbb{R}: P(ix) P^*(ix) \\geq 1$\n",
        "\n",
        "in addition to the above conditions 1 and 2, then there exists an explicit construction of $Q$ based on root finding that satisfies properties 1 to 3. These two theorems in [[2]](#[2]) provide the first constructive method for determining the phases for $U_{\\Phi}(x)$. We shall call it the GSLW's method.\n",
        "\n",
        "Our objective here is to gain a better understanding of this [PennyLane demo](https://pennylane.ai/qml/demos/tutorial_intro_qsvt). Therefore, let's consider the example therein where $P(x) = \\frac{1}{2} (5x^3 - 3x)$ is a Legendre polynomial. Such $P(x)$ falls within the scope of the aforementioned theorems."
      ],
      "metadata": {
        "id": "TRIbvu6KEWnc"
      }
    },
    {
      "cell_type": "code",
      "execution_count": null,
      "metadata": {
        "id": "JgYTfd6nMFMd",
        "colab": {
          "base_uri": "https://localhost:8080/"
        },
        "outputId": "1f18f982-a735-46ab-e53f-a70b22d0e4d8"
      },
      "outputs": [
        {
          "output_type": "stream",
          "name": "stdout",
          "text": [
            "Collecting pennylane\n",
            "  Downloading PennyLane-0.33.0-py3-none-any.whl (1.5 MB)\n",
            "\u001b[2K     \u001b[90m━━━━━━━━━━━━━━━━━━━━━━━━━━━━━━━━━━━━━━━━\u001b[0m \u001b[32m1.5/1.5 MB\u001b[0m \u001b[31m12.8 MB/s\u001b[0m eta \u001b[36m0:00:00\u001b[0m\n",
            "\u001b[?25hRequirement already satisfied: numpy in /usr/local/lib/python3.10/dist-packages (from pennylane) (1.23.5)\n",
            "Requirement already satisfied: scipy in /usr/local/lib/python3.10/dist-packages (from pennylane) (1.11.3)\n",
            "Requirement already satisfied: networkx in /usr/local/lib/python3.10/dist-packages (from pennylane) (3.2)\n",
            "Collecting rustworkx (from pennylane)\n",
            "  Downloading rustworkx-0.13.2-cp310-cp310-manylinux_2_17_x86_64.manylinux2014_x86_64.whl (2.0 MB)\n",
            "\u001b[2K     \u001b[90m━━━━━━━━━━━━━━━━━━━━━━━━━━━━━━━━━━━━━━━━\u001b[0m \u001b[32m2.0/2.0 MB\u001b[0m \u001b[31m26.4 MB/s\u001b[0m eta \u001b[36m0:00:00\u001b[0m\n",
            "\u001b[?25hRequirement already satisfied: autograd in /usr/local/lib/python3.10/dist-packages (from pennylane) (1.6.2)\n",
            "Requirement already satisfied: toml in /usr/local/lib/python3.10/dist-packages (from pennylane) (0.10.2)\n",
            "Requirement already satisfied: appdirs in /usr/local/lib/python3.10/dist-packages (from pennylane) (1.4.4)\n",
            "Collecting semantic-version>=2.7 (from pennylane)\n",
            "  Downloading semantic_version-2.10.0-py2.py3-none-any.whl (15 kB)\n",
            "Collecting autoray>=0.6.1 (from pennylane)\n",
            "  Downloading autoray-0.6.7-py3-none-any.whl (49 kB)\n",
            "\u001b[2K     \u001b[90m━━━━━━━━━━━━━━━━━━━━━━━━━━━━━━━━━━━━━━━━\u001b[0m \u001b[32m49.9/49.9 kB\u001b[0m \u001b[31m6.5 MB/s\u001b[0m eta \u001b[36m0:00:00\u001b[0m\n",
            "\u001b[?25hRequirement already satisfied: cachetools in /usr/local/lib/python3.10/dist-packages (from pennylane) (5.3.2)\n",
            "Collecting pennylane-lightning>=0.33 (from pennylane)\n",
            "  Downloading PennyLane_Lightning-0.33.1-cp310-cp310-manylinux_2_17_x86_64.manylinux2014_x86_64.whl (14.0 MB)\n",
            "\u001b[2K     \u001b[90m━━━━━━━━━━━━━━━━━━━━━━━━━━━━━━━━━━━━━━━━\u001b[0m \u001b[32m14.0/14.0 MB\u001b[0m \u001b[31m25.8 MB/s\u001b[0m eta \u001b[36m0:00:00\u001b[0m\n",
            "\u001b[?25hRequirement already satisfied: requests in /usr/local/lib/python3.10/dist-packages (from pennylane) (2.31.0)\n",
            "Requirement already satisfied: typing-extensions in /usr/local/lib/python3.10/dist-packages (from pennylane) (4.5.0)\n",
            "Requirement already satisfied: future>=0.15.2 in /usr/local/lib/python3.10/dist-packages (from autograd->pennylane) (0.18.3)\n",
            "Requirement already satisfied: charset-normalizer<4,>=2 in /usr/local/lib/python3.10/dist-packages (from requests->pennylane) (3.3.1)\n",
            "Requirement already satisfied: idna<4,>=2.5 in /usr/local/lib/python3.10/dist-packages (from requests->pennylane) (3.4)\n",
            "Requirement already satisfied: urllib3<3,>=1.21.1 in /usr/local/lib/python3.10/dist-packages (from requests->pennylane) (2.0.7)\n",
            "Requirement already satisfied: certifi>=2017.4.17 in /usr/local/lib/python3.10/dist-packages (from requests->pennylane) (2023.7.22)\n",
            "Installing collected packages: semantic-version, rustworkx, autoray, pennylane-lightning, pennylane\n",
            "Successfully installed autoray-0.6.7 pennylane-0.33.0 pennylane-lightning-0.33.1 rustworkx-0.13.2 semantic-version-2.10.0\n"
          ]
        }
      ],
      "source": [
        "try:\n",
        "    import pennylane as qml\n",
        "except ImportError as e:\n",
        "    # Install pennylane if package is not already installed\n",
        "    !pip install pennylane\n",
        "    import pennylane as qml\n",
        "import numpy as np\n",
        "import numpy.polynomial as npp\n",
        "from scipy import linalg\n",
        "from matplotlib import pyplot as plt\n",
        "\n",
        "plt.style.use('seaborn-v0_8')"
      ]
    },
    {
      "cell_type": "code",
      "source": [
        "P_coef = [0, -1.5, 0, 2.5]\n",
        "\n",
        "P = npp.Polynomial(P_coef)\n",
        "\n",
        "print(P)"
      ],
      "metadata": {
        "id": "uFtxWZrL-y9o",
        "colab": {
          "base_uri": "https://localhost:8080/"
        },
        "outputId": "7f438bdd-af48-434a-c327-0253e70eed5d"
      },
      "execution_count": null,
      "outputs": [
        {
          "output_type": "stream",
          "name": "stdout",
          "text": [
            "0.0 - 1.5·x¹ + 0.0·x² + 2.5·x³\n"
          ]
        }
      ]
    },
    {
      "cell_type": "markdown",
      "source": [
        "Now, we explicate the GSLW's method.\n",
        "\n",
        "#### 1. Completion\n",
        "- To determine $Q(x)$, Condition 3 motivates us to consider $A(x) := 1 - P(x) P^*(x)$. After some anslysis, it can be shown that $A(x) = K^2(1-x^2) \\prod_{s \\in \\mathcal{S}} (x^2-s)(x^2-s^*)$ for some $K \\in \\mathbb{R}$. Here, $\\mathcal{S} \\subseteq \\mathbb{C}$ represents a multiset of roots. Once we have found $\\mathcal{S}$, we can then choose $Q(x) = K \\prod_{s \\in \\mathcal{S}} (x^2 - s)$ so that $Q$ fulfills the conditions 1 to 3.\n",
        "\n",
        "\n",
        "#### 2. Decomposition\n",
        "- If $\\deg(P) > 0$, the concerning polynomials should have the form $P(x) = \\sum_{k=0}^{l} \\alpha_k x^k$ and $Q(x) = \\sum_{k=0}^{l-1} \\beta_k x^k$ with $|\\alpha_l| = |\\beta_{l-1}|$. Therefore, the angles $\\Phi$ can be constructed recursively as follows:\n",
        "\n",
        "  1. Set $t = d$\n",
        "  \n",
        "  2. While $\\deg(P) > 0$:\n",
        "    - Choose $\\phi_t \\in [-\\pi, \\pi]$ so that $e^{2i\\phi} = \\frac{\\alpha_l}{\\beta_{l-1}}$, the ratio of coefficients in the leading terms.\n",
        "    - Reduce $P, Q$ to $\\tilde{P}, \\tilde{Q}$ such that $\\deg(\\tilde{P}) = \\deg(P) - 1$, $\\deg(\\tilde{Q}) = \\deg(Q) - 1$ and the leading coefficients of $\\tilde{P}$ and $\\tilde{Q}$ have the same absolute value. The update equations are given by $\\tilde{P}(x) = e^{-i \\phi} x P(x) + (1-x^2) Q(x) e^{i \\phi}$ and $\\tilde{Q}(x) = - e^{-i \\phi} P(x) + x Q(x) e^{i \\phi}$\n",
        "    - Set $t$ to $t-1$.\n",
        "\n",
        "  4. Choose $\\phi_0$ such that $e^{i \\phi_0} = P(1)$.\n",
        "\n",
        "  5. If $t \\geq 2$, set $\\phi_j = \\frac{\\pi}{2}$ for $j=1, 3, \\dots, t-1$ and $\\phi_{j'} = - \\frac{\\pi}{2}$ for $j'=2, 4, \\dots, t$.\n",
        "\n",
        "For simplicity, we consider $l = d$ in the implementation below."
      ],
      "metadata": {
        "id": "GmWFpnOEhv41"
      }
    },
    {
      "cell_type": "code",
      "source": [
        "# Construct $A_{\\tilde(x)} = A(\\sqrt(x))$\n",
        "A = 1 - P * npp.Polynomial(P.coef.conj())\n",
        "A_tilde = npp.Polynomial(A.coef[::2])\n",
        "A_tilde_roots = A_tilde.roots()\n",
        "list_S = A_tilde_roots[A_tilde_roots.imag > 1e-5]\n",
        "K = np.sqrt(-A_tilde.coef[-1])\n",
        "\n",
        "# Find Q(x)\n",
        "Q = npp.Polynomial(K)\n",
        "for s in list_S:\n",
        "  Q *= npp.Polynomial([-s, 0, 1])\n",
        "\n",
        "print(f'Q(x) = {Q}')"
      ],
      "metadata": {
        "colab": {
          "base_uri": "https://localhost:8080/"
        },
        "id": "u7-AuM6e_Rje",
        "outputId": "a0e2ccb7-8f9b-46c6-a8be-92fcdf8b6ea6"
      },
      "execution_count": null,
      "outputs": [
        {
          "output_type": "stream",
          "name": "stdout",
          "text": [
            "Q(x) = (-0.25000000000000017-0.9682458365518545j) + 0j·x¹ + (2.5+0j)·x²\n"
          ]
        }
      ]
    },
    {
      "cell_type": "markdown",
      "source": [
        "As a checkpoint for Step 1, we can verify if the polynomials $P, Q$ satisfy Condition 3."
      ],
      "metadata": {
        "id": "D_--zlLAuToF"
      }
    },
    {
      "cell_type": "code",
      "source": [
        "# sanity check\n",
        "poly1 = npp.Polynomial([0, 1])\n",
        "poly2 = npp.Polynomial([1, 0, -1])\n",
        "\n",
        "poly_identity = P * npp.Polynomial(P.coef.conj()) + poly2 * Q * npp.Polynomial(Q.coef.conj())\n",
        "npp.Polynomial(npp.polynomial.polytrim(poly_identity.coef, 1e-5))"
      ],
      "metadata": {
        "colab": {
          "base_uri": "https://localhost:8080/",
          "height": 39
        },
        "id": "A5CuOfPrASl6",
        "outputId": "838ee381-6a65-4f36-a70b-8e81015c80ac"
      },
      "execution_count": null,
      "outputs": [
        {
          "output_type": "execute_result",
          "data": {
            "text/plain": [
              "Polynomial([1.+0.j], domain=[-1,  1], window=[-1,  1])"
            ],
            "text/latex": "$x \\mapsto \\text{(1.0000000000000004+0j)}$"
          },
          "metadata": {},
          "execution_count": 4
        }
      ]
    },
    {
      "cell_type": "markdown",
      "source": [
        " They satisfy Condition 3, passing the sanity check. However, we have observed that the sum does not exactly equal 1, primarily due to finite numerical precision. It turns out that this imprecision will propagate more severely during the iterations in Step 2. Therefore, when implementing Step 2, it is crucial to \"clean\" the numerical values at the end of each iteration."
      ],
      "metadata": {
        "id": "Vxo7b9NxufHA"
      }
    },
    {
      "cell_type": "code",
      "source": [
        "def round_coef(polynomial):\n",
        "  return npp.Polynomial(npp.polynomial.polytrim(polynomial.coef, 1e-5))"
      ],
      "metadata": {
        "id": "aXylosi2Cz1B"
      },
      "execution_count": null,
      "outputs": []
    },
    {
      "cell_type": "code",
      "source": [
        "P_current = P\n",
        "Q_current = Q\n",
        "\n",
        "phi_list = []\n",
        "\n",
        "while P_current.degree() > 0:\n",
        "  r = P_current.coef[-1] / Q_current.coef[-1]\n",
        "  phi = np.log(r).imag / 2\n",
        "  phi_list.append(phi)\n",
        "\n",
        "  P_current, Q_current = [\n",
        "      np.exp(-1j * phi) * (poly1 * P_current + r * poly2 * Q_current),\n",
        "      np.exp(-1j * phi) * (r * poly1 * Q_current - P_current)\n",
        "      ]\n",
        "\n",
        "  P_current = round_coef(P_current)\n",
        "  Q_current = round_coef(Q_current)\n",
        "\n",
        "phi_list.append(np.log(P_current(1)).imag)\n",
        "\n",
        "phi_list = phi_list[::-1]\n",
        "\n",
        "print(phi_list)"
      ],
      "metadata": {
        "id": "3ommxCiAAp2f",
        "colab": {
          "base_uri": "https://localhost:8080/"
        },
        "outputId": "84027be8-71b3-4ef3-8c5c-ffe308d29fe9"
      },
      "execution_count": null,
      "outputs": [
        {
          "output_type": "stream",
          "name": "stdout",
          "text": [
            "[-4.440892098500626e-16, -0.659058035826409, 0.6590580358264092, 0.0]\n"
          ]
        }
      ]
    },
    {
      "cell_type": "markdown",
      "source": [
        "## Employing the QSVT functions\n",
        "\n",
        "We are almost ready to feed $\\Phi$ to a QSVT function to test QSP. Before that we should note that there are various conventions to represent the parameterized circuit in QSVT. The QSVT function in Pennylane is by default represented by concatenation of block encoded matrices and projector-controlled phase shift matrices. We can illstrate the circuit as follows."
      ],
      "metadata": {
        "id": "LXGwKn8PvlpG"
      }
    },
    {
      "cell_type": "code",
      "source": [
        "q_script = qml.tape.QuantumScript(ops=[qml.qsvt(1., phi_list, wires=[0])])\n",
        "print(q_script.expand().draw(decimals=2))"
      ],
      "metadata": {
        "colab": {
          "base_uri": "https://localhost:8080/"
        },
        "id": "yWLZOW40-hQn",
        "outputId": "8105bea4-b76f-429e-dbc0-93238ab69312"
      },
      "execution_count": null,
      "outputs": [
        {
          "output_type": "stream",
          "name": "stdout",
          "text": [
            "0: ──∏_ϕ(0.00)──BlockEncode(M0)──∏_ϕ(0.66)──BlockEncode(M0)†──∏_ϕ(-0.66)──BlockEncode(M0)\n",
            "\n",
            "───∏_ϕ(-0.00)─┤  \n",
            "M0 = \n",
            "[[1.]]\n"
          ]
        }
      ]
    },
    {
      "cell_type": "markdown",
      "source": [
        "Because of different conventions, we need to make adaptation by appropriately translating $\\Phi$ and adjusting the global phase using the identity $-iZ = \\begin{bmatrix} e^{-i\\pi/2} & 0 \\\\ 0 & e^{i\\pi/2} \\end{bmatrix} = RZ(-\\pi)$."
      ],
      "metadata": {
        "id": "QMQIB7SM2dOg"
      }
    },
    {
      "cell_type": "code",
      "source": [
        "angles = np.array(phi_list)\n",
        "\n",
        "def qsvt_output(a):\n",
        "    adapted_anlges = angles + np.append(0, -np.pi / 2 * np.ones(angles.shape[0] - 1))\n",
        "    global_phase = (1j) ** (angles.shape[0] - 1)\n",
        "    out = global_phase * qml.matrix(qml.qsvt)(a, adapted_anlges, wires=[0])\n",
        "\n",
        "    return out[0, 0]\n",
        "\n",
        "\n",
        "# For simulation, we could expand qml.qsvt as follows\n",
        "#\n",
        "# def qsvt_output(a):\n",
        "#     U_a = qml.matrix(qml.BlockEncode(a, wires=range(1)))\n",
        "#     out = qml.matrix(qml.PCPhase(angles[0], dim = 1, wires=range(1)))\n",
        "#     PauliZ = qml.matrix(qml.PauliZ(wires=range(1)))\n",
        "\n",
        "#     for k in range(1,len(angles)):\n",
        "#       out = out @ U_a @ PauliZ @ qml.matrix(qml.PCPhase(angles[k], dim = 1, wires=range(1)))\n",
        "\n",
        "#     return out[0, 0]"
      ],
      "metadata": {
        "id": "b2jxnIFq1csT"
      },
      "execution_count": null,
      "outputs": []
    },
    {
      "cell_type": "code",
      "source": [
        "x_vals = np.linspace(-1, 1, 50)\n",
        "\n",
        "qsvt = [np.real(qsvt_output(x)) for x in x_vals]\n",
        "\n",
        "plt.plot(x_vals, P(x_vals), '-o', label='true')\n",
        "plt.plot(x_vals, qsvt, label='qsvt')\n",
        "plt.legend()"
      ],
      "metadata": {
        "colab": {
          "base_uri": "https://localhost:8080/",
          "height": 502
        },
        "id": "5x3fBQxF9KZ5",
        "outputId": "7f497047-ef95-491b-b17d-7410ef3a1aba"
      },
      "execution_count": null,
      "outputs": [
        {
          "output_type": "execute_result",
          "data": {
            "text/plain": [
              "<matplotlib.legend.Legend at 0x7ef4021047f0>"
            ]
          },
          "metadata": {},
          "execution_count": 9
        },
        {
          "output_type": "display_data",
          "data": {
            "text/plain": [
              "<Figure size 800x550 with 1 Axes>"
            ],
            "image/png": "[encoded data removed]"
          },
          "metadata": {}
        }
      ]
    },
    {
      "cell_type": "markdown",
      "source": [
        "With the above plot, we have successfully construct $P(x)$ using the QSVT function."
      ],
      "metadata": {
        "id": "OmNPEhwlzfgj"
      }
    },
    {
      "cell_type": "markdown",
      "source": [
        "## Subsequent methods for finding the phases\n",
        "\n",
        "As demonstrated in the implementation of the GSLW's method, we need to be careful of numerical instability arising from finite precision. Existing literature indicates that this issue imposes constraints on the maximum degree of polynomial that the GSLW's method can effectively handle. Nonetheless, this method holds substantial importance as it serves as the groundwork for notable improvements proposed in subsequent literature.\n",
        "\n",
        "\n",
        "### 1. Haah's method\n",
        "One notable follow-up work is Haah's method [[3]](#[3]).\n",
        "Haah explored a variant of the GSLW's method using what's known as the Wz convention. In the equation we previously wrote, $$e^{i\\phi_0 Z} \\prod_{j=1}^{d} \\left [ O(x) e^{i \\phi_j Z}\\right ] = \\begin{bmatrix} P(x) & -Q(x) \\sqrt{1-x^2} \\\\ Q^*(x) \\sqrt{1-x^2} & P^*(x) \\end{bmatrix},$$ the Wz convention refers to the resulting form when we multiply both sides of the equation $H e^{i\\frac{\\pi}{4}Z}$ from the left and $e^{-i\\frac{\\pi}{4}Z} H$ from the right:\n",
        "\n",
        "$$ H e^{i\\frac{\\pi}{4}Z} \\begin{bmatrix} P(x) & -Q(x) \\sqrt{1-x^2} \\\\ Q^*(x) \\sqrt{1-x^2} & P^*(x) \\end{bmatrix} e^{-i\\frac{\\pi}{4}Z} H = \\begin{bmatrix} F(w) & iG(w) \\\\ iG(w^{-1}) & F(w^{-1}) \\end{bmatrix},$$\n",
        "\n",
        "$$H e^{i\\frac{\\pi}{4}Z} U_{\\Phi}(x) e^{-i\\frac{\\pi}{4}Z} H = e^{i \\phi_0 X} \\prod_{j=1}^{d} \\left ( \\begin{bmatrix} w & 0 \\\\ 0 & w^{-1} \\end{bmatrix} e^{i \\theta_j X} \\right ).$$\n",
        "\n",
        "Here, $w = e^{i \\cos^{-1} x}$ (or $x = \\frac{w+w^{-1}}{2}$) and $F(w), G(w) \\in \\mathbb{R}[w, w^{-1}]$ are Laurent polynomials. Further discussion regarding connections between different conventions is available in [[4, Appendix A]](#[4]).\n",
        "\n",
        "A notable feature of the Wz convention is that the coefficients in the $F(w), G(w)$ are real numbers, whereas the coefficients in $P(x), Q(x)$ are complex numbers. This distinction could make the Wz convention advantageous for both analysis and computation. Under the Wz convention, Haah's approach inherits most of the ideas of completion and decomposition in the GSLW's method. Essentially, the first step involves finding roots of a Laurent polynomial to identify $G(w)$ given $F(w)$. The second step determines the phases by iteratively reducing the polynomial degree by one per iteration. These two features limit the number of classical bits required for precision $\\epsilon$ to be on the order of $O \\left ( d \\log \\frac{d}{\\epsilon} \\right )$.\n",
        "\n",
        "\n",
        "### 2. CDGHS's method\n",
        "To address the limitation in the decomposition step, Chao et al. [[5]](#[5]) proposed a method that involves \"halving\" of unitary matrices. Their first key insight was to depart from Haah's perspective, where $U(w) := \\begin{bmatrix} F(w) & iG(w) \\\\ iG(w^{-1}) & F(w^{-1}) \\end{bmatrix}$ is expressed as $\\sum_{j=-d}^{d} C_j w^j$, with $C_j$ being either a zero matrix or in SU(2). Instead, they found it more convenient to consider $$U(w) = A(\\tilde{w}) + B(\\tilde{w}) \\cdot iX$$ where $\\tilde{w} = \\begin{bmatrix} w & 0 \\\\ 0 & w^{-1} \\end{bmatrix}$ and $A(\\tilde{w}), B(\\tilde{w})$ are Laurent polynomial of $\\tilde{w}$. Chao et al. referred to matrices generated with $I$ and $X$ in this manner as \"the Low algebra\".\n",
        "\n",
        "The term \"halving\" refers to the approach that, by solving a set of linear constraints in real numbers, it is possible to find a unitary matrix $V$ in Low algebra with degree $l$ such that $V^H U$ has a degree of $d-l$. Both $U, V$ and $V^H U$ must also have appropriate parities. This concept suggests a divide-and-conquer approach to decompose $U$ in the form $$U = V_1 V_2 V_3 \\cdots.$$ By doing this, we can easily solve for the phases $\\Phi$ when all $V_i$ have degrees of at most 1. Consequently, one of the potential reason that CDGHS's method is numerically more stable could be because the phases are only determined at the very end of the decomposition process.\n",
        "\n",
        "### 3. Ying's method\n",
        "More recently, Ying introduced a novel approach to enhance the completion step. The paper [[6]](#[6]) details this method in the so-called Wx convention and the polynomials are considered as a function of $w$. However, for consistency, we will describe his essential idea in the Wz convention.\n",
        "\n",
        "In the Wz convention, the completion step involves finding $G(w)$, which is essentially the characterisitic polynomial $\\prod_{j} (w - \\xi_j)$ up to a multiplicative constant. Here, $\\xi_j$ represents the roots of the polynomial $g(w) := 1 - F(w) F(w^{-1})$ that lie within the unit disk. While constructing the characteristic polynomial after solving for these roots is one appraoch, Ying pointed out that this route is not mandatory. Indeed, there is a convenient shortcut available, known as Prony's method, which has been used in signal processing for decades.\n",
        "\n",
        "Prony's method says that if we have a sequence $(f_k)_{k \\in \\mathbb{Z}}$ of the form $$f_k = \\sum_{j=1}^{d} r_j \\lambda_j^k e^{i \\theta_j k}$$ but the parameters $d, \\lambda_j, \\theta_j, r_j$ are unknown to us, it is possible to reconstruct a polynomial $m(z) = \\prod_{j=1} (z - \\lambda_j e^{i \\theta_j})$ from the evaluation of $f_k$ at $2d+1$ consecutive values of $k$. In the context of QSP, we can consider $g(\\theta)$ obtained by changing the variable in $g(w)$ through $w=e^{i\\theta}$. After some calculations, it is possible to show that the Fourier transform of $1/g(\\theta)$ takes the following form: $$\\hat{g}_k := \\frac{1}{2\\pi} \\int_{0}^{2\\pi} \\frac{1}{g(\\theta)} e^{-ik\\theta} d\\theta = - \\sum_{|\\xi_j|<1} \\hat{r}_j \\xi_j^{-(k+1)}.$$ The integral can be approximated by the trapezoidal rule, making it efficient to obtain $\\hat{g}_k$. If we then map $\\hat{g}_k$ to $f_{k+1}$, it becomes straightforward to apply Prony's method to obtain the desired characteristic polynomial when the sequence $(\\hat{g}_k)_{k=1, 2, \\dots, 4d+1}$ is available.\n",
        "\n",
        "\n",
        "### 4. Optimization-based method\n",
        "All the methods mentioned above are based on polynomial factorization and recursion. In the pursuit of developing a numerically stable method for determining the phases in QSP, Dong et al. took a new direction based on optimization, as outlined in [[7]](#[7]). They demonstrated that when our primary goal is to encode $\\text{Re}[P(x)] = f(x)$ with $\\text{deg}(f) = d$ and considering parity, a specific efficient approach becomes viable. This approach involves carefully selecting a subset of $\\tilde{d} = \\lceil \\frac{d+1}{2} \\rceil$ points in the domain of $x$. The phases $\\Phi$ are then solved by minimizing a cost function $$C(\\Phi) := \\frac{1}{\\tilde{d}} \\sum_{k=1}^{\\tilde{d}} \\left | \\text{Re}[\\bra{0} U_{\\Phi}(x_k)\\ket{0}] - f(x_k) \\right |^2$$ over a specific parameter space with appropriate initialization. Importantly, the value of $\\tilde{d}$ here is tight and significantly contributes to the efficiency of the optimization formulation.\n",
        "\n",
        "In practice, if we do not have a tight constraint on the number of points $x_k$ on which we evaluate the functions, we can relax $\\tilde{d}$ to a large number. This allows for less cautious consideration of technical details and enables a more straightforward function fitting approach using gradient descent methods available in typical machine learning tools."
      ],
      "metadata": {
        "id": "QUuueL45zwEk"
      }
    },
    {
      "cell_type": "markdown",
      "source": [
        "## An open-source Python tool for QSP\n",
        "\n",
        "With the state-of-the-art methods discussed above, researchers have already faciliated open-source implementations. As introduced in [[4]](#[4]), a Python package called `pyqsp` is available in [this GitHub repository](https://github.com/ichuang/pyqsp) for this purpose. It includes implementations of CDGHS's method and an optimization-based method using TensorFlow. Now, let's explore how to use this package to encode $P(x)$ in the example considered in the previous sections."
      ],
      "metadata": {
        "id": "GTTrSD3XxLy-"
      }
    },
    {
      "cell_type": "code",
      "source": [
        "!pip install git+https://github.com/ichuang/pyqsp.git"
      ],
      "metadata": {
        "id": "RYdJtW7zhbS6",
        "colab": {
          "base_uri": "https://localhost:8080/"
        },
        "outputId": "41de7686-20d8-4bdd-b916-892919b1ad46"
      },
      "execution_count": null,
      "outputs": [
        {
          "output_type": "stream",
          "name": "stdout",
          "text": [
            "Collecting git+https://github.com/ichuang/pyqsp.git\n",
            "  Cloning https://github.com/ichuang/pyqsp.git to /tmp/pip-req-build-5w_4qv_g\n",
            "  Running command git clone --filter=blob:none --quiet https://github.com/ichuang/pyqsp.git /tmp/pip-req-build-5w_4qv_g\n",
            "  Resolved https://github.com/ichuang/pyqsp.git to commit 6ec2499c153b4359a11c914ff59bff16545508cc\n",
            "  Preparing metadata (setup.py) ... \u001b[?25l\u001b[?25hdone\n",
            "Requirement already satisfied: matplotlib in /usr/local/lib/python3.10/dist-packages (from pyqsp==0.1.6) (3.7.1)\n",
            "Requirement already satisfied: numpy>1.19.1 in /usr/local/lib/python3.10/dist-packages (from pyqsp==0.1.6) (1.23.5)\n",
            "Requirement already satisfied: scipy in /usr/local/lib/python3.10/dist-packages (from pyqsp==0.1.6) (1.11.3)\n",
            "Requirement already satisfied: contourpy>=1.0.1 in /usr/local/lib/python3.10/dist-packages (from matplotlib->pyqsp==0.1.6) (1.1.1)\n",
            "Requirement already satisfied: cycler>=0.10 in /usr/local/lib/python3.10/dist-packages (from matplotlib->pyqsp==0.1.6) (0.12.1)\n",
            "Requirement already satisfied: fonttools>=4.22.0 in /usr/local/lib/python3.10/dist-packages (from matplotlib->pyqsp==0.1.6) (4.43.1)\n",
            "Requirement already satisfied: kiwisolver>=1.0.1 in /usr/local/lib/python3.10/dist-packages (from matplotlib->pyqsp==0.1.6) (1.4.5)\n",
            "Requirement already satisfied: packaging>=20.0 in /usr/local/lib/python3.10/dist-packages (from matplotlib->pyqsp==0.1.6) (23.2)\n",
            "Requirement already satisfied: pillow>=6.2.0 in /usr/local/lib/python3.10/dist-packages (from matplotlib->pyqsp==0.1.6) (9.4.0)\n",
            "Requirement already satisfied: pyparsing>=2.3.1 in /usr/local/lib/python3.10/dist-packages (from matplotlib->pyqsp==0.1.6) (3.1.1)\n",
            "Requirement already satisfied: python-dateutil>=2.7 in /usr/local/lib/python3.10/dist-packages (from matplotlib->pyqsp==0.1.6) (2.8.2)\n",
            "Requirement already satisfied: six>=1.5 in /usr/local/lib/python3.10/dist-packages (from python-dateutil>=2.7->matplotlib->pyqsp==0.1.6) (1.16.0)\n",
            "Building wheels for collected packages: pyqsp\n",
            "  Building wheel for pyqsp (setup.py) ... \u001b[?25l\u001b[?25hdone\n",
            "  Created wheel for pyqsp: filename=pyqsp-0.1.6-py3-none-any.whl size=46170 sha256=d1329d31730faaf92b5257429d89700680fee62521cb9dee35e5a9293c395394\n",
            "  Stored in directory: /tmp/pip-ephem-wheel-cache-lyry8awc/wheels/f6/22/34/147e57d39a8263d13c89cfc580cf4f08f376a9b1450eb3fe29\n",
            "Successfully built pyqsp\n",
            "Installing collected packages: pyqsp\n",
            "Successfully installed pyqsp-0.1.6\n"
          ]
        }
      ]
    },
    {
      "cell_type": "code",
      "source": [
        "import pyqsp\n",
        "import pyqsp.angle_sequence\n",
        "\n",
        "phi_pyqsp = pyqsp.angle_sequence.QuantumSignalProcessingPhases(P_coef, signal_operator='Wx', tolerance=0.00001)"
      ],
      "metadata": {
        "id": "pLIK7eW4LQaM"
      },
      "execution_count": null,
      "outputs": []
    },
    {
      "cell_type": "markdown",
      "source": [
        "Once we have the phases in Wx convention, we can again use `qml.qsvt` in the matching convention."
      ],
      "metadata": {
        "id": "TntLZCQRPGw3"
      }
    },
    {
      "cell_type": "code",
      "source": [
        "def qsvt_output_pyqsp(a):\n",
        "  out = qml.matrix(qml.qsvt)(a, phi_pyqsp, wires=[0], convention='Wx')\n",
        "\n",
        "  return out[0, 0]"
      ],
      "metadata": {
        "id": "S4Ay6CNYFK2d"
      },
      "execution_count": null,
      "outputs": []
    },
    {
      "cell_type": "code",
      "source": [
        "qsvt = [np.real(qsvt_output_pyqsp(x)) for x in x_vals]\n",
        "\n",
        "plt.plot(x_vals, P(x_vals), '-o', label='true')\n",
        "plt.plot(x_vals, qsvt, label='qsvt (using pyqsp)')\n",
        "plt.legend()"
      ],
      "metadata": {
        "id": "BICr_0-_Lklr",
        "colab": {
          "base_uri": "https://localhost:8080/",
          "height": 502
        },
        "outputId": "ceea77b8-da3a-478a-b2ad-a20988f0a18c"
      },
      "execution_count": null,
      "outputs": [
        {
          "output_type": "execute_result",
          "data": {
            "text/plain": [
              "<matplotlib.legend.Legend at 0x7ef3b8315d20>"
            ]
          },
          "metadata": {},
          "execution_count": 13
        },
        {
          "output_type": "display_data",
          "data": {
            "text/plain": [
              "<Figure size 800x550 with 1 Axes>"
            ],
            "image/png": "[encoded data removed]"
          },
          "metadata": {}
        }
      ]
    },
    {
      "cell_type": "code",
      "source": [
        "q_script = qml.tape.QuantumScript(ops=[qml.qsvt(1., phi_pyqsp, wires=[0], convention='Wx')])\n",
        "print(q_script.expand().expand().draw(decimals=2))"
      ],
      "metadata": {
        "id": "F3zmvPrNLuwh",
        "colab": {
          "base_uri": "https://localhost:8080/"
        },
        "outputId": "23e06797-22e2-418f-f0c9-528d36280440"
      },
      "execution_count": null,
      "outputs": [
        {
          "output_type": "stream",
          "name": "stdout",
          "text": [
            "0: ──∏_ϕ(0.38)──BlockEncode(M0)──∏_ϕ(1.19)──BlockEncode(M0)†──∏_ϕ(1.19)──BlockEncode(M0)──∏_ϕ(1.95)\n",
            "\n",
            "───RI(-3.14)─┤  \n",
            "M0 = \n",
            "[[1.]]\n"
          ]
        }
      ]
    },
    {
      "cell_type": "markdown",
      "source": [
        "As shown in the above pictures, the phases determined by `pyqsp` differ from the previous solution, yet the circuit still encodes $P(x)$. Indeed, the phases can have multiple valid solutions."
      ],
      "metadata": {
        "id": "Qz4cp4loPlG2"
      }
    },
    {
      "cell_type": "markdown",
      "source": [
        "## Conclusion\n",
        "In this notebook, we have provided an overview of the available methods for determining the phases in QSP at both the conceptual and implementation levels. It is interesting to observe how tools from complex analysis, Fourier analysis and signal processing can be harnessed to address this problem.\n",
        "\n",
        "This notebook however does not cover methods for the same problem in a more realistic setting where quantum noise is present, which represents an ongoing area of research. Furthermore, a compelling question arises when we consider the relationship between QAOA and QSVT, given their structural similarities in parameterized circuits."
      ],
      "metadata": {
        "id": "BGzOTQeBUM3s"
      }
    },
    {
      "cell_type": "markdown",
      "source": [
        "### References\n",
        "<a id=\"references\"></a>\n",
        "<a id=\"[1]\"></a>\n",
        "1. L. Lin, [*Lecture Notes on Quantum Algorithms for Scientific Computation*](https://arxiv.org/abs/2201.08309), arXiv:2201.08309, 2022\n",
        "\n",
        "<a id=\"[2]\"></a>\n",
        "2. A. Gilyén, Y. Su, G. H. Low, N. Wiebe, [*Quantum singular value transformation and beyond: exponential improvements for quantum matrix arithmetics*](https://arxiv.org/abs/1806.01838), ACM SIGACT Symposium on Theory of Computing, 2019\n",
        "\n",
        "<a id=\"[3]\"></a>\n",
        "3. J. Haah, [*Product decomposition of periodic functions in quantum signal processing*](https://quantum-journal.org/papers/q-2019-10-07-190/), Quantum, 2019\n",
        "\n",
        "<a id=\"[4]\"></a>\n",
        "4. J. M. Martyn, Z. M. Rossi, A. K. Tan, I. L. Chuang, [*A grand unification of quantum algorithm*](https://arxiv.org/abs/2105.02859), PRX Quantum, 2021\n",
        "\n",
        "<a id=\"[5]\"></a>\n",
        "5. R. Chao, D. Ding, A. Gilyen, C. Huang, M. Szegedy, [*Finding angles for quantum signal processing with machine precision*](https://arxiv.org/abs/2003.02831), arXiv:2003.02831, 2020\n",
        "\n",
        "<a id=\"[6]\"></a>\n",
        "6. L. Ying, [*Stable factorization for phase factors of quantum signal processing*](https://quantum-journal.org/papers/q-2022-10-20-842/), Quantum, 2022\n",
        "\n",
        "<a id=\"[7]\"></a>\n",
        "7. Y. Dong, X. Meng, K. B. Whaley, and L. Lin, [*Efficient phase-factor evaluation in quantum signal processing*](https://arxiv.org/abs/2002.11649), Physical Review A, 2021"
      ],
      "metadata": {
        "id": "KKPrWBEyDoQQ"
      }
    }
  ]
}