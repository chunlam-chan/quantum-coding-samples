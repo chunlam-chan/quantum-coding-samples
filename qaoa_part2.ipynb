{
  "cells": [
    {
      "cell_type": "markdown",
      "metadata": {
        "id": "view-in-github",
        "colab_type": "text"
      },
      "source": [
        "<a href=\"https://colab.research.google.com/github/chunlam-chan/quantum-coding-samples/blob/main/qaoa_part2.ipynb\" target=\"_parent\"><img src=\"https://colab.research.google.com/assets/colab-badge.svg\" alt=\"Open In Colab\"/></a>"
      ]
    },
    {
      "cell_type": "markdown",
      "metadata": {
        "id": "COh38DNZTYjo"
      },
      "source": [
        "# QAOA for MIMO Detection, Part 2: Comparision to RQAOA\n",
        "\n",
        "Some literature has demonstrated that the standard QAOA at any constant circuit depth $p$ (a.k.a. level $p$) fails to solve certain optimization problems effectively. These problematic cases occur when the Hamiltonian encoding the problem is *local*, with interactions between the individual components limited to nearby neighbors, while interactions beyond a certain range are negligible. To address this limitation, a non-local variant of QAOA called recurisve QAOA (RQAOA) has been introduced in [[1]](#[1]).\n",
        "\n",
        "Empirical evidence in [[1]](#[1]) and [[2]](#[2]) suggests that level-1 RQAOA can be a competitive algorithm for certain problems on regular graphs that can be described by a local Hamiltonian. Notably, [[1]](#[1]) provides an analytical proof of instances where RQAOA achieves a superior approximation ratio compared to QAOA.\n",
        "Moreover, despite RQAOA not being initially motivated for non-local Hamiltonians, [[3]](#[3]) offers a further analytic proof that level-1 RQAOA outperforms level-1 QAOA in solving the MAX-CUT problem on complete graphs.\n",
        "\n",
        "To explore if the result of [[3]](#[3]) can have a broader implication regarding the performance of RQAOA on complete graphs, this notebook compares the performance of QAOA and RQAOA for the problem of MIMO detection.\n",
        "\n",
        "$\\newcommand{\\ket}[1]{\\left|{#1}\\right\\rangle}$\n",
        "$\\newcommand{\\bra}[1]{\\left\\langle{#1}\\right|}$"
      ]
    },
    {
      "cell_type": "code",
      "execution_count": null,
      "metadata": {
        "colab": {
          "base_uri": "https://localhost:8080/"
        },
        "id": "rSYDdA7i9PHM",
        "outputId": "b87768ef-e235-43df-d5d3-49fc78ab26e8"
      },
      "outputs": [
        {
          "name": "stdout",
          "output_type": "stream",
          "text": [
            "Collecting pennylane\n",
            "  Downloading PennyLane-0.31.0-py3-none-any.whl (1.4 MB)\n",
            "\u001b[2K     \u001b[90m━━━━━━━━━━━━━━━━━━━━━━━━━━━━━━━━━━━━━━━━\u001b[0m \u001b[32m1.4/1.4 MB\u001b[0m \u001b[31m8.5 MB/s\u001b[0m eta \u001b[36m0:00:00\u001b[0m\n",
            "\u001b[?25hRequirement already satisfied: numpy<1.24 in /usr/local/lib/python3.10/dist-packages (from pennylane) (1.22.4)\n",
            "Collecting scipy<=1.10 (from pennylane)\n",
            "  Downloading scipy-1.10.0-cp310-cp310-manylinux_2_17_x86_64.manylinux2014_x86_64.whl (34.4 MB)\n",
            "\u001b[2K     \u001b[90m━━━━━━━━━━━━━━━━━━━━━━━━━━━━━━━━━━━━━━━━\u001b[0m \u001b[32m34.4/34.4 MB\u001b[0m \u001b[31m15.7 MB/s\u001b[0m eta \u001b[36m0:00:00\u001b[0m\n",
            "\u001b[?25hRequirement already satisfied: networkx in /usr/local/lib/python3.10/dist-packages (from pennylane) (3.1)\n",
            "Collecting rustworkx (from pennylane)\n",
            "  Downloading rustworkx-0.13.0-cp310-cp310-manylinux_2_17_x86_64.manylinux2014_x86_64.whl (1.9 MB)\n",
            "\u001b[2K     \u001b[90m━━━━━━━━━━━━━━━━━━━━━━━━━━━━━━━━━━━━━━━━\u001b[0m \u001b[32m1.9/1.9 MB\u001b[0m \u001b[31m22.1 MB/s\u001b[0m eta \u001b[36m0:00:00\u001b[0m\n",
            "\u001b[?25hCollecting autograd<=1.5 (from pennylane)\n",
            "  Downloading autograd-1.5-py3-none-any.whl (48 kB)\n",
            "\u001b[2K     \u001b[90m━━━━━━━━━━━━━━━━━━━━━━━━━━━━━━━━━━━━━━━━\u001b[0m \u001b[32m48.9/48.9 kB\u001b[0m \u001b[31m2.5 MB/s\u001b[0m eta \u001b[36m0:00:00\u001b[0m\n",
            "\u001b[?25hRequirement already satisfied: toml in /usr/local/lib/python3.10/dist-packages (from pennylane) (0.10.2)\n",
            "Requirement already satisfied: appdirs in /usr/local/lib/python3.10/dist-packages (from pennylane) (1.4.4)\n",
            "Collecting semantic-version>=2.7 (from pennylane)\n",
            "  Downloading semantic_version-2.10.0-py2.py3-none-any.whl (15 kB)\n",
            "Collecting autoray>=0.3.1 (from pennylane)\n",
            "  Downloading autoray-0.6.3-py3-none-any.whl (48 kB)\n",
            "\u001b[2K     \u001b[90m━━━━━━━━━━━━━━━━━━━━━━━━━━━━━━━━━━━━━━━━\u001b[0m \u001b[32m48.3/48.3 kB\u001b[0m \u001b[31m3.2 MB/s\u001b[0m eta \u001b[36m0:00:00\u001b[0m\n",
            "\u001b[?25hRequirement already satisfied: cachetools in /usr/local/lib/python3.10/dist-packages (from pennylane) (5.3.1)\n",
            "Collecting pennylane-lightning>=0.31 (from pennylane)\n",
            "  Downloading PennyLane_Lightning-0.31.0-cp310-cp310-manylinux_2_17_x86_64.manylinux2014_x86_64.whl (16.6 MB)\n",
            "\u001b[2K     \u001b[90m━━━━━━━━━━━━━━━━━━━━━━━━━━━━━━━━━━━━━━━━\u001b[0m \u001b[32m16.6/16.6 MB\u001b[0m \u001b[31m20.4 MB/s\u001b[0m eta \u001b[36m0:00:00\u001b[0m\n",
            "\u001b[?25hRequirement already satisfied: requests in /usr/local/lib/python3.10/dist-packages (from pennylane) (2.27.1)\n",
            "Requirement already satisfied: future>=0.15.2 in /usr/local/lib/python3.10/dist-packages (from autograd<=1.5->pennylane) (0.18.3)\n",
            "Requirement already satisfied: urllib3<1.27,>=1.21.1 in /usr/local/lib/python3.10/dist-packages (from requests->pennylane) (1.26.16)\n",
            "Requirement already satisfied: certifi>=2017.4.17 in /usr/local/lib/python3.10/dist-packages (from requests->pennylane) (2023.5.7)\n",
            "Requirement already satisfied: charset-normalizer~=2.0.0 in /usr/local/lib/python3.10/dist-packages (from requests->pennylane) (2.0.12)\n",
            "Requirement already satisfied: idna<4,>=2.5 in /usr/local/lib/python3.10/dist-packages (from requests->pennylane) (3.4)\n",
            "Installing collected packages: semantic-version, scipy, rustworkx, autoray, autograd, pennylane-lightning, pennylane\n",
            "  Attempting uninstall: scipy\n",
            "    Found existing installation: scipy 1.10.1\n",
            "    Uninstalling scipy-1.10.1:\n",
            "      Successfully uninstalled scipy-1.10.1\n",
            "  Attempting uninstall: autograd\n",
            "    Found existing installation: autograd 1.6.2\n",
            "    Uninstalling autograd-1.6.2:\n",
            "      Successfully uninstalled autograd-1.6.2\n",
            "Successfully installed autograd-1.5 autoray-0.6.3 pennylane-0.31.0 pennylane-lightning-0.31.0 rustworkx-0.13.0 scipy-1.10.0 semantic-version-2.10.0\n"
          ]
        }
      ],
      "source": [
        "try:\n",
        "    import pennylane as qml\n",
        "except ImportError as e:\n",
        "    # Install pennylane if package is not already installed\n",
        "    !pip install pennylane\n",
        "    import pennylane as qml\n",
        "from pennylane import numpy as np\n",
        "from pennylane import qaoa\n",
        "from matplotlib import pyplot as plt\n",
        "from scipy.optimize import minimize, LinearConstraint\n",
        "\n",
        "np.random.seed(2023)"
      ]
    },
    {
      "cell_type": "markdown",
      "metadata": {
        "id": "GdG5dU3IClCt"
      },
      "source": [
        "## Implementation of QAOA and RQAOA\n",
        "\n",
        "First, we code the instance of the model and the QAOA solver for MIMO detection, following the steps outlined in the notebook for Part I."
      ]
    },
    {
      "cell_type": "code",
      "execution_count": null,
      "metadata": {
        "id": "m_RyFsM-9kR4"
      },
      "outputs": [],
      "source": [
        "def gen_instance(M, N, scheme='simple'):\n",
        "  if scheme == 'simple':\n",
        "    H = np.array([[1.2416, -0.1741],[0.3323, -0.0804]])\n",
        "    x = np.array([-1,1])\n",
        "    z = np.array([-1.5130, 0.3212])\n",
        "    y = H @ x + z\n",
        "  elif scheme == 'random':\n",
        "    H = np.random.rand(M, N)\n",
        "    x = (-1) ** np.random.randint(2, size=N)\n",
        "    n = np.random.rand(M) * 0.1\n",
        "    y = H @ x + n\n",
        "\n",
        "  return x, H, y"
      ]
    },
    {
      "cell_type": "code",
      "execution_count": null,
      "metadata": {
        "id": "aYt3hR3O9-23"
      },
      "outputs": [],
      "source": [
        "def mimo_detection(H, y):\n",
        "  _, N = H.shape\n",
        "  A = 2 * H.T @ H\n",
        "  b = -2 * y.T @ H\n",
        "  obs = [qml.PauliZ(i) @ qml.PauliZ(j) for j in range(N) for i in range(j)]\n",
        "  coeffs = [A[i,j].numpy() for j in range(N) for i in range(j)]\n",
        "  obs = obs + [qml.PauliZ(i) for i in range(N)]\n",
        "  coeffs = coeffs + list(b.numpy())\n",
        "  cost_h = qml.Hamiltonian(coeffs, obs)\n",
        "  mixer_h = qaoa.x_mixer(wires=range(N))\n",
        "  return cost_h, mixer_h"
      ]
    },
    {
      "cell_type": "code",
      "execution_count": null,
      "metadata": {
        "id": "_fxrqoPQbflo"
      },
      "outputs": [],
      "source": [
        "class QAOA:\n",
        "  def __init__(self, cost_h, mixer_h, N, depth):\n",
        "    self.cost_h = cost_h\n",
        "    self.mixer_h = mixer_h\n",
        "    self.depth = depth\n",
        "    self.wires = range(N)\n",
        "    self.dev = qml.device('default.qubit', wires=self.wires)\n",
        "\n",
        "  def _qaoa_layer(self, gamma, alpha):\n",
        "    qaoa.cost_layer(gamma, self.cost_h)\n",
        "    qaoa.mixer_layer(alpha, self.mixer_h)\n",
        "\n",
        "  def _circuit(self, params):\n",
        "    for w in self.wires:\n",
        "      qml.Hadamard(wires=w)\n",
        "    qml.layer(self._qaoa_layer, self.depth, params[0], params[1])\n",
        "\n",
        "  def cost_function(self, params):\n",
        "    @qml.qnode(self.dev)\n",
        "    def qnode():\n",
        "      self._circuit(params)\n",
        "      return qml.expval(self.cost_h)\n",
        "\n",
        "    return qnode()\n",
        "\n",
        "  def probability_circuit(self, gamma, alpha):\n",
        "    @qml.qnode(self.dev)\n",
        "    def qnode():\n",
        "      self._circuit([gamma, alpha])\n",
        "      return qml.probs(wires=self.wires)\n",
        "\n",
        "    return qnode()\n",
        "\n",
        "  def draw_circuit(self, gamma, alpha):\n",
        "    @qml.qnode(self.dev)\n",
        "    def qnode(gamma, alpha):\n",
        "      self._circuit([gamma, alpha])\n",
        "      return qml.probs(wires=self.wires)\n",
        "\n",
        "    return qml.draw_mpl(qnode, decimals=1, expansion_strategy='device')\n",
        "\n",
        "  def cost_function_for_scipy(self, params_flat):\n",
        "    params = params_flat.reshape((2,-1))\n",
        "    return self.cost_function(params)"
      ]
    },
    {
      "cell_type": "code",
      "execution_count": null,
      "metadata": {
        "id": "wMJs5mY61LGj"
      },
      "outputs": [],
      "source": [
        "def qaoa_solver(H, y, depth):\n",
        "  _, N = H.shape\n",
        "  cost_h, mixer_h = mimo_detection(H, y)\n",
        "  qaoa_mimo = QAOA(cost_h, mixer_h, N, depth)\n",
        "\n",
        "  params_flat = np.random.randn(2 * depth, requires_grad=True)\n",
        "  linear_constraint = LinearConstraint(A=np.eye(2*depth), lb=np.zeros(2*depth), ub=2*np.pi*np.ones(2*depth))\n",
        "  out = minimize(qaoa_mimo.cost_function_for_scipy, x0=params_flat, method='COBYLA', constraints=linear_constraint, options={'maxiter':100})\n",
        "  params_cobyla = out['x'].reshape(2, -1)\n",
        "\n",
        "  probs_cobyla = qaoa_mimo.probability_circuit(params_cobyla[0], params_cobyla[1])\n",
        "  est_x_idx = np.argmax(probs_cobyla)\n",
        "  est_x = [(-1) ** int(b) for b in np.binary_repr(est_x_idx, N)]\n",
        "\n",
        "  return np.array(est_x).numpy()"
      ]
    },
    {
      "cell_type": "markdown",
      "metadata": {
        "id": "yUw8fIIfD0ov"
      },
      "source": [
        "Now, let's explore RQAOA, an algorithm that incorporates QAOA as a subroutine.  RQAOA is designed to solve a problem with $N$ variables, where each variable $z_i$ belongs to the set $\\{-1, 1\\}$ and the problem is described by a Hamiltonian $H_N$. RQAOA is executed through recursively imposing constraints to the set of variables and reducing the Hamiltonian to a simpler form for fewer qubits. In this context, it is important to recall that $\\sigma_Z^{(i)}$ represents the Pauli-Z operator applied to the $i$-th qubit. To summarize, the RQAOA algorithm can be outlined as follows:\n",
        "\n",
        "1. Apply the QAOA to $H_N$ and prepare the optimal state $\\ket{\\psi(\\beta^*, \\gamma^*)}$ where $\\beta^*, \\gamma^*$ maximizes $\\bra{\\psi(\\beta, \\gamma)} H_N \\ket{\\psi(\\beta, \\gamma)}$.\n",
        "\n",
        "2. Compute $M_{i,j} = \\bra{\\psi(\\beta, \\gamma)} \\sigma_Z^{(i)} \\sigma_Z^{(j)} \\ket{\\psi(\\beta, \\gamma)}$ for every edge $(i,j)$.\n",
        "\n",
        "3. Let $(k,l) = \\arg \\max_{i,j} M_{i,j}$.\n",
        "  1. Apply a hard constraint to the decision variables: $z_l = \\text{sgn}(M_{k,l}) z_k$.\n",
        "  2. Reduce $H_N$ to $H_{N-1}$ by replacing $\\sigma_Z^{(l)}$ in $H_N$ with $\\text{sgn}(M_{i,j}) \\sigma_Z^{(k)}$.\n",
        "\n",
        "4. Go back to Step 1 with $H = H_{N-1}$ unless the current $N$ is less than a pre-defined threshold $N_c$.\n",
        "\n",
        "5. Solve the remaining problem classically."
      ]
    },
    {
      "cell_type": "markdown",
      "metadata": {
        "id": "1wYAZfM7qvXJ"
      },
      "source": [
        "For the MIMO detection with $x_{ML} = \\min_{x \\in \\mathcal{X}^N} f(x)$ where\n",
        "$$f(x) = \\sum_{i<j} A_{i,j} x_i x_j + \\sum_{i=1}^{N} b_i x_i,$$\n",
        "let's see how we can adopt the RQAOA to the problem. Once we have chosen a pair $(k,l)$, in Step 3 we will set $x_l \\rightarrow \\alpha x_k$ with $\\alpha = \\pm 1$. We can then write\n",
        "$$f(x) = \\sum_{\\substack{i<j \\\\ i,j \\neq l}} A_{i,j} x_i x_j + \\sum_{\\substack{i=1 \\\\ i \\neq l}}^{N} b_i x_i + \\sum_{i<l} \\alpha A_{il} x_i x_k + \\sum_{l<j} \\alpha A_{lj} x_k x_j + \\alpha b_l x_k = \\sum_{\\substack{i<j \\\\ i,j \\neq l}} A'_{i,j} x_i x_j + \\sum_{\\substack{i=1 \\\\ i \\neq l}}^{N} b'_i x_i$$\n",
        "where\n",
        "$$A' =\n",
        "\\begin{cases}\n",
        "A_{ij} \\quad \\text{if $i \\neq k$ and $j \\neq k$} \\\\\n",
        "A_{ij} + \\alpha A_{il} \\quad \\text{if $j=k$} \\\\\n",
        "A_{ij} + \\alpha A_{lj} \\quad \\text{if $i=k$} \\\\\n",
        "\\end{cases}$$\n",
        "and\n",
        "$$b' =\n",
        "\\begin{cases}\n",
        "b_{i} \\quad \\text{if $i \\neq k$} \\\\\n",
        "b_{i} + \\alpha b_{l} \\quad \\text{if $i=k$}.\n",
        "\\end{cases}$$\n",
        "Therefore, the reduction from $H_N$ to $H_{N-1}$ in Step 3.2 is essentially by eliminating operators on index $l$ and working with $A'$ and $b'$ instead.\n",
        "\n",
        "Here, we consider $N_c = 1$. Therefore, at the end of the recursion only one variable, say $x_i$, is left and $H_1 = b'_i \\sigma_Z^{(i)}$. We can simply assign $x_i$ with $-\\text{sgn}(b'_i)$. Because of the computation for different pairs $(i,j)$ in Step 2, the complexity of RQAOA is expanded by $O(N^2)$ compared to QAOA."
      ]
    },
    {
      "cell_type": "code",
      "execution_count": null,
      "metadata": {
        "id": "MDt7akmRcE23"
      },
      "outputs": [],
      "source": [
        "class RQAOA(QAOA):\n",
        "  def measure_correlation(self, params, pair):\n",
        "    @qml.qnode(self.dev)\n",
        "    def qnode():\n",
        "      self._circuit(params)\n",
        "      return qml.expval(qml.PauliZ(pair[0]) @ qml.PauliZ(pair[1]))\n",
        "\n",
        "    return qnode()"
      ]
    },
    {
      "cell_type": "code",
      "execution_count": null,
      "metadata": {
        "id": "q__vz69olYC7"
      },
      "outputs": [],
      "source": [
        "def rqaoa_solver(H, y, depth):\n",
        "  _, N = H.shape\n",
        "  candidates = [i for i in range(N)]\n",
        "  N_can = len(candidates)\n",
        "  relations = []\n",
        "\n",
        "  A = 2 * H.T @ H\n",
        "  b = -2 * y.T @ H\n",
        "\n",
        "  while N_can > 1:\n",
        "    # construct the Hamiltonian\n",
        "    obs = [qml.PauliZ(i) @ qml.PauliZ(j) for j in range(N_can) for i in range(j)]\n",
        "    coeffs = [A[candidates[i],candidates[j]].numpy() for j in range(N_can) for i in range(j)]\n",
        "    obs = obs + [qml.PauliZ(i) for i in range(N_can)]\n",
        "    coeffs = coeffs + [b[candidates[i]] for i in range(N_can)]\n",
        "    cost_h = qml.Hamiltonian(coeffs, obs)\n",
        "    mixer_h = qaoa.x_mixer(wires=range(N_can))\n",
        "\n",
        "    # optimize the QAOA circuit\n",
        "    rqaoa_mimo = RQAOA(cost_h, mixer_h, N_can, depth)\n",
        "    params_flat = np.random.randn(2*depth, requires_grad=True)\n",
        "    linear_constraint = LinearConstraint(A=np.eye(2*depth), lb=np.zeros(2*depth), ub=2*np.pi*np.ones(2*depth))\n",
        "    out = minimize(rqaoa_mimo.cost_function_for_scipy, x0=params_flat, method='COBYLA', constraints=linear_constraint, options={'maxiter':100})\n",
        "    params = out['x'].reshape(2,-1)\n",
        "\n",
        "    # measure the correlations\n",
        "    pair_list = []\n",
        "    sign_list = []\n",
        "    magnitude_list = []\n",
        "    for j in range(N_can):\n",
        "      for i in range(j):\n",
        "        correlation = rqaoa_mimo.measure_correlation(params, [i, j])\n",
        "        sign = np.sign(correlation)\n",
        "        magnitude = np.abs(correlation)\n",
        "        pair_list.append([candidates[i], candidates[j]])\n",
        "        sign_list.append(sign)\n",
        "        magnitude_list.append(magnitude)\n",
        "\n",
        "    # prune a variable\n",
        "    prune_idx = np.argmax(magnitude_list)\n",
        "    prune_pair = pair_list[prune_idx]\n",
        "    prune_sign = sign_list[prune_idx]\n",
        "    relations.append([prune_pair[0], prune_pair[1], prune_sign])\n",
        "\n",
        "    # update for the reduced problem\n",
        "    candidates.remove(prune_pair[1])\n",
        "    N_can -= 1\n",
        "    A[prune_pair[0], prune_pair[0]] -= prune_sign * A[prune_pair[0], prune_pair[1]]\n",
        "    A[:, prune_pair[0]] += prune_sign * A[:, prune_pair[1]]\n",
        "    A[prune_pair[0], :] += prune_sign * A[prune_pair[1], :]\n",
        "    b[prune_pair[0]] += prune_sign * b[prune_pair[1]]\n",
        "\n",
        "  # Backtrack the solution\n",
        "  est_x = np.zeros(N)\n",
        "  est_x[candidates[0]] = - np.sign(b[candidates[0]])\n",
        "  for i, j, sign in relations:\n",
        "    est_x[j] = sign * est_x[i]\n",
        "\n",
        "  return est_x.numpy()"
      ]
    },
    {
      "cell_type": "markdown",
      "metadata": {
        "id": "J9zp9xL9MH_e"
      },
      "source": [
        "## Experimental Results and Discussion\n",
        "\n",
        "In the experiment below, we draw the channel matrix $H$ and the noise vector $n$ by i.i.d. Gaussian distribution, and draw $x$ uniformly. To compare QAOA with RQAOA, in addition to the success rate of returning the true $x$ perfectly, we also check the symbol error rate (SER), which is the fraction of incorrectedly decoded symbols. Let's see how they behave for a simple $3 \\times 3$ system and various circuit depths."
      ]
    },
    {
      "cell_type": "code",
      "execution_count": null,
      "metadata": {
        "id": "FNfdroyxXOrH"
      },
      "outputs": [],
      "source": [
        "def qaoa_experiments(M, N, depth, trials):\n",
        "\n",
        "  ser_qaoa_list = []\n",
        "  ser_rqaoa_list = []\n",
        "  success_qaoa = 0\n",
        "  success_rqaoa = 0\n",
        "\n",
        "  for t in range(trials):\n",
        "    if t % 20 == 0:\n",
        "      print(f'At trial {t}')\n",
        "\n",
        "    x, H, y = gen_instance(M, N, scheme='random')\n",
        "\n",
        "    est_x_qaoa = qaoa_solver(H, y, depth)\n",
        "    est_x_rqaoa = rqaoa_solver(H, y, depth)\n",
        "\n",
        "    ser_qaoa = 1 - np.sum(est_x_qaoa == x).numpy() / N\n",
        "    ser_rqaoa = 1 - np.sum(est_x_rqaoa == x).numpy() / N\n",
        "\n",
        "    ser_qaoa_list.append(ser_qaoa)\n",
        "    ser_rqaoa_list.append(ser_rqaoa)\n",
        "\n",
        "    success_qaoa += int(ser_qaoa == 0)\n",
        "    success_rqaoa += int(ser_rqaoa == 0)\n",
        "\n",
        "  success = [success_qaoa, success_rqaoa]\n",
        "  ser_mean = [np.mean(ser_qaoa_list), np.mean(ser_rqaoa_list)]\n",
        "  ser_std = [np.std(ser_qaoa_list), np.std(ser_rqaoa_list)]\n",
        "\n",
        "  return success, ser_mean, ser_std\n"
      ]
    },
    {
      "cell_type": "code",
      "execution_count": null,
      "metadata": {
        "colab": {
          "background_save": true,
          "base_uri": "https://localhost:8080/"
        },
        "id": "eUeM_fjCaUkf",
        "outputId": "01d98dab-69d3-4d7c-a44b-f7f958a27602"
      },
      "outputs": [
        {
          "name": "stdout",
          "output_type": "stream",
          "text": [
            "==== At depth 1 ====\n",
            "At trial 0\n",
            "At trial 20\n",
            "At trial 40\n",
            "At trial 60\n",
            "At trial 80\n",
            "==== At depth 3 ====\n",
            "At trial 0\n",
            "At trial 20\n",
            "At trial 40\n",
            "At trial 60\n",
            "At trial 80\n",
            "==== At depth 8 ====\n",
            "At trial 0\n",
            "At trial 20\n",
            "At trial 40\n",
            "At trial 60\n",
            "At trial 80\n",
            "==== At depth 13 ====\n",
            "At trial 0\n",
            "At trial 20\n",
            "At trial 40\n",
            "At trial 60\n",
            "At trial 80\n"
          ]
        }
      ],
      "source": [
        "M = 3\n",
        "N = 3\n",
        "\n",
        "depth_list = [1, 3, 8, 13]\n",
        "trials = 100\n",
        "\n",
        "success_list = []\n",
        "ser_mean_list = []\n",
        "ser_std_list = []\n",
        "\n",
        "for depth in depth_list:\n",
        "  print(f'==== At depth {depth} ====')\n",
        "  success, ser_mean, ser_std = qaoa_experiments(M, N, depth, trials)\n",
        "  success_list.append(success)\n",
        "  ser_mean_list.append(ser_mean)\n",
        "  ser_std_list.append(ser_std)\n"
      ]
    },
    {
      "cell_type": "code",
      "execution_count": null,
      "metadata": {
        "colab": {
          "background_save": true
        },
        "id": "_RWnxFu6bxW9",
        "outputId": "d00ba6df-7452-44d4-dd93-7b393f637f1c"
      },
      "outputs": [
        {
          "data": {
            "image/png": "[encoded data removed]",
            "text/plain": [
              "<Figure size 1000x400 with 2 Axes>"
            ]
          },
          "metadata": {},
          "output_type": "display_data"
        }
      ],
      "source": [
        "success_array = np.array(success_list)\n",
        "ser_mean_array = np.array(ser_mean_list)\n",
        "ser_std_array = np.array(ser_std_list)\n",
        "\n",
        "fig, ax = plt.subplots(1, 2, figsize=(10, 4))\n",
        "ax[0].plot(depth_list, success_array[:, 0], '-o', label='QAOA')\n",
        "ax[0].plot(depth_list, success_array[:, 1], '-o', label='RQAOA')\n",
        "ax[0].legend()\n",
        "ax[0].set_xlabel('depth')\n",
        "ax[0].set_ylabel('success count')\n",
        "ax[1].plot(depth_list, ser_mean_array[:, 0], '-o', label='QAOA')\n",
        "ax[1].plot(depth_list, ser_mean_array[:, 1], '-o', label='RQAOA')\n",
        "ax[1].fill_between(depth_list, ser_mean_array[:, 0] - ser_std_array[:, 0], ser_mean_array[:, 0] + ser_std_array[:, 0], alpha=0.2)\n",
        "ax[1].fill_between(depth_list, ser_mean_array[:, 1] - ser_std_array[:, 1], ser_mean_array[:, 1] + ser_std_array[:, 1], alpha=0.2)\n",
        "ax[1].legend()\n",
        "ax[1].set_xlabel('depth')\n",
        "ax[1].set_ylabel('SER')\n",
        "ax[1].set_ylim([0,1])\n",
        "plt.show()"
      ]
    },
    {
      "cell_type": "markdown",
      "metadata": {
        "id": "OAuS8gUFP0U0"
      },
      "source": [
        "The simulation results presented above indicate that, in the example cases examined, RQAOA does not outperform QAOA. The success rate achieved by RQAOA is significantly lower across different depths compared to QAOA. It is worth noting that the exceptionally low success rate observed for level-13 RQAOA might be attributed to the limited number of iterations allowed for the classical optimizer, chosen for computational efficiency purposes.\n",
        "\n",
        "Despite the stark difference in the success rates, their SER are similar. Furthermore, the shaded regions in the right figure indicates a higher variance in SER achived by RQAOA. This suggests that while RQAOA may not be consistently successful in all cases, it can still provide close approximations, although on average, it is not as accurate as the estimate obtained by QAOA.\n",
        "\n",
        "Finally, it is worth mentioning that [[4]](#[4]) provides interesting discussions on the factors that potentially hinder RQAOA from achieving perfect decoding; for example, optimal parameters for RQAOA might not be a good choice for leading us to the desired solution."
      ]
    },
    {
      "cell_type": "markdown",
      "metadata": {
        "id": "9woOmaqSbruC"
      },
      "source": [
        "### References\n",
        "<a id=\"references\"></a>\n",
        "<a id=\"[1]\"></a>\n",
        "1. S. Bravyi, A. Kliesch, R. Koenig, E. Tang, [*Obstacles to State Preparation and Variational Optimization from Symmetry Protection*](https://arxiv.org/abs/1910.08980), Phys. Rev. Lett. 125, 2020\n",
        "\n",
        "<a id=\"[2]\"></a>\n",
        "2. S. Bravyi, A. Kliesch, R. Koenig, E. Tang, [*Hybrid quantum-classical algorithms for approximate graph coloring*](https://arxiv.org/abs/2011.13420), Quantum 6, 678, 2022\n",
        "\n",
        "<!-- <a id=\"[3]\"></a>\n",
        "3. S. Bravyi, D. Gosset, D. Grier, L. Schaeffer, [*Classical algorithms for Forrelation*](https://arxiv.org/abs/2102.06963), arXiv:2102.06963, 2021 -->\n",
        "\n",
        "<a id=\"[3]\"></a>\n",
        "3. E. Bae, S. Lee, [*Recursive QAOA outperforms the original QAOA for the MAX-CUT problem on complete graphs*](https://arxiv.org/abs/2211.15832), arXiv:2211.15832, 2023\n",
        "\n",
        "<a id=\"[4]\"></a>\n",
        "4. Y. Patel, S. Jerbi, T. Bäck, V. Dunjko, [*Reinforcement Learning Assisted Recursive QAOA*](https://arxiv.org/abs/2207.06294), arXiv:2207.06294, 2022"
      ]
    }
  ],
  "metadata": {
    "colab": {
      "provenance": [],
      "authorship_tag": "ABX9TyPwkngRf42dy1V9oBzPLEXe",
      "include_colab_link": true
    },
    "kernelspec": {
      "display_name": "Python 3",
      "name": "python3"
    },
    "language_info": {
      "name": "python"
    }
  },
  "nbformat": 4,
  "nbformat_minor": 0
}